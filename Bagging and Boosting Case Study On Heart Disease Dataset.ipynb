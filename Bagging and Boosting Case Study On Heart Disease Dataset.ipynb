{
 "cells": [
  {
   "cell_type": "markdown",
   "metadata": {
    "id": "dSD2YVDWJlZL"
   },
   "source": [
    "**Ensemble learning** - is used to improve machine learning result by combining multiple models \n",
    "\n",
    "**Note** - Model can have different machine learning algorithms"
   ]
  },
  {
   "cell_type": "markdown",
   "metadata": {
    "id": "dgt9QYdvMZ_k"
   },
   "source": [
    "Bagging vs Boosting"
   ]
  },
  {
   "cell_type": "markdown",
   "metadata": {
    "id": "y4M2nojKMaCc"
   },
   "source": [
    "**Bagging Algorithms**\n",
    "\n",
    "Bootstrap Aggregation or bagging involves taking multiple samples from your training dataset (with replacement) and training a model for each sample.\n",
    "\n",
    "The final output prediction is averaged across the predictions of all of the sub-models.\n",
    "\n",
    "The three bagging models covered in this section are as follows:\n",
    "\n",
    "Bagged Decision Trees\n",
    "\n",
    "Random Forest\n",
    "\n",
    "Extra Trees"
   ]
  },
  {
   "cell_type": "markdown",
   "metadata": {
    "id": "2f9fcgZwvrps"
   },
   "source": [
    "**Note** - Bagging and Boosting can be used for regression as well as classification"
   ]
  },
  {
   "cell_type": "markdown",
   "metadata": {
    "id": "i0cEoSSfvrsJ"
   },
   "source": [
    "**Boosting Algorithms**\n",
    "\n",
    "Boosting ensemble algorithms creates a sequence of models that attempt to correct the mistakes of the models before them in the sequence.\n",
    "\n",
    "Once created, the models make predictions that may be weighted by their demonstrated accuracy and the results are combined to create a final output prediction.\n",
    "\n",
    "The two most common boosting ensemble machine learning algorithms are:\n",
    "\n",
    "AdaBoost\n",
    "\n",
    "XGBoost\n",
    "\n",
    "CatBoost\n",
    "\n",
    "Stochastic Gradient Boosting"
   ]
  },
  {
   "cell_type": "code",
   "execution_count": 1,
   "metadata": {
    "id": "_GqJTHMrxLBS"
   },
   "outputs": [],
   "source": [
    "import pandas as pd\n",
    "import numpy as np\n",
    "import matplotlib.pyplot as plt"
   ]
  },
  {
   "cell_type": "code",
   "execution_count": 2,
   "metadata": {
    "id": "Bf_SHdZuCx33"
   },
   "outputs": [],
   "source": [
    "df=pd.read_csv(\"/home/vanchhit/Downloads/heart_disease.csv\")"
   ]
  },
  {
   "cell_type": "code",
   "execution_count": 3,
   "metadata": {
    "colab": {
     "base_uri": "https://localhost:8080/",
     "height": 299
    },
    "id": "beQK2V6mRO06",
    "outputId": "bd467ca1-b901-48e3-b9e5-2851ef524b32"
   },
   "outputs": [
    {
     "data": {
      "text/html": [
       "<div>\n",
       "<style scoped>\n",
       "    .dataframe tbody tr th:only-of-type {\n",
       "        vertical-align: middle;\n",
       "    }\n",
       "\n",
       "    .dataframe tbody tr th {\n",
       "        vertical-align: top;\n",
       "    }\n",
       "\n",
       "    .dataframe thead th {\n",
       "        text-align: right;\n",
       "    }\n",
       "</style>\n",
       "<table border=\"1\" class=\"dataframe\">\n",
       "  <thead>\n",
       "    <tr style=\"text-align: right;\">\n",
       "      <th></th>\n",
       "      <th>HeartDiseaseorAttack</th>\n",
       "      <th>HighBP</th>\n",
       "      <th>HighChol</th>\n",
       "      <th>CholCheck</th>\n",
       "      <th>BMI</th>\n",
       "      <th>Smoker</th>\n",
       "      <th>Stroke</th>\n",
       "      <th>Diabetes</th>\n",
       "      <th>PhysActivity</th>\n",
       "      <th>Fruits</th>\n",
       "      <th>...</th>\n",
       "      <th>AnyHealthcare</th>\n",
       "      <th>NoDocbcCost</th>\n",
       "      <th>GenHlth</th>\n",
       "      <th>MentHlth</th>\n",
       "      <th>PhysHlth</th>\n",
       "      <th>DiffWalk</th>\n",
       "      <th>Sex</th>\n",
       "      <th>Age</th>\n",
       "      <th>Education</th>\n",
       "      <th>Income</th>\n",
       "    </tr>\n",
       "  </thead>\n",
       "  <tbody>\n",
       "    <tr>\n",
       "      <th>0</th>\n",
       "      <td>0.0</td>\n",
       "      <td>1.0</td>\n",
       "      <td>1.0</td>\n",
       "      <td>1.0</td>\n",
       "      <td>40.0</td>\n",
       "      <td>1.0</td>\n",
       "      <td>0.0</td>\n",
       "      <td>0.0</td>\n",
       "      <td>0.0</td>\n",
       "      <td>0.0</td>\n",
       "      <td>...</td>\n",
       "      <td>1.0</td>\n",
       "      <td>0.0</td>\n",
       "      <td>5.0</td>\n",
       "      <td>18.0</td>\n",
       "      <td>15.0</td>\n",
       "      <td>1.0</td>\n",
       "      <td>0.0</td>\n",
       "      <td>9.0</td>\n",
       "      <td>4.0</td>\n",
       "      <td>3.0</td>\n",
       "    </tr>\n",
       "    <tr>\n",
       "      <th>1</th>\n",
       "      <td>0.0</td>\n",
       "      <td>0.0</td>\n",
       "      <td>0.0</td>\n",
       "      <td>0.0</td>\n",
       "      <td>25.0</td>\n",
       "      <td>1.0</td>\n",
       "      <td>0.0</td>\n",
       "      <td>0.0</td>\n",
       "      <td>1.0</td>\n",
       "      <td>0.0</td>\n",
       "      <td>...</td>\n",
       "      <td>0.0</td>\n",
       "      <td>1.0</td>\n",
       "      <td>3.0</td>\n",
       "      <td>0.0</td>\n",
       "      <td>0.0</td>\n",
       "      <td>0.0</td>\n",
       "      <td>0.0</td>\n",
       "      <td>7.0</td>\n",
       "      <td>6.0</td>\n",
       "      <td>1.0</td>\n",
       "    </tr>\n",
       "    <tr>\n",
       "      <th>2</th>\n",
       "      <td>0.0</td>\n",
       "      <td>1.0</td>\n",
       "      <td>1.0</td>\n",
       "      <td>1.0</td>\n",
       "      <td>28.0</td>\n",
       "      <td>0.0</td>\n",
       "      <td>0.0</td>\n",
       "      <td>0.0</td>\n",
       "      <td>0.0</td>\n",
       "      <td>1.0</td>\n",
       "      <td>...</td>\n",
       "      <td>1.0</td>\n",
       "      <td>1.0</td>\n",
       "      <td>5.0</td>\n",
       "      <td>30.0</td>\n",
       "      <td>30.0</td>\n",
       "      <td>1.0</td>\n",
       "      <td>0.0</td>\n",
       "      <td>9.0</td>\n",
       "      <td>4.0</td>\n",
       "      <td>8.0</td>\n",
       "    </tr>\n",
       "    <tr>\n",
       "      <th>3</th>\n",
       "      <td>0.0</td>\n",
       "      <td>1.0</td>\n",
       "      <td>0.0</td>\n",
       "      <td>1.0</td>\n",
       "      <td>27.0</td>\n",
       "      <td>0.0</td>\n",
       "      <td>0.0</td>\n",
       "      <td>0.0</td>\n",
       "      <td>1.0</td>\n",
       "      <td>1.0</td>\n",
       "      <td>...</td>\n",
       "      <td>1.0</td>\n",
       "      <td>0.0</td>\n",
       "      <td>2.0</td>\n",
       "      <td>0.0</td>\n",
       "      <td>0.0</td>\n",
       "      <td>0.0</td>\n",
       "      <td>0.0</td>\n",
       "      <td>11.0</td>\n",
       "      <td>3.0</td>\n",
       "      <td>6.0</td>\n",
       "    </tr>\n",
       "    <tr>\n",
       "      <th>4</th>\n",
       "      <td>0.0</td>\n",
       "      <td>1.0</td>\n",
       "      <td>1.0</td>\n",
       "      <td>1.0</td>\n",
       "      <td>24.0</td>\n",
       "      <td>0.0</td>\n",
       "      <td>0.0</td>\n",
       "      <td>0.0</td>\n",
       "      <td>1.0</td>\n",
       "      <td>1.0</td>\n",
       "      <td>...</td>\n",
       "      <td>1.0</td>\n",
       "      <td>0.0</td>\n",
       "      <td>2.0</td>\n",
       "      <td>3.0</td>\n",
       "      <td>0.0</td>\n",
       "      <td>0.0</td>\n",
       "      <td>0.0</td>\n",
       "      <td>11.0</td>\n",
       "      <td>5.0</td>\n",
       "      <td>4.0</td>\n",
       "    </tr>\n",
       "  </tbody>\n",
       "</table>\n",
       "<p>5 rows × 22 columns</p>\n",
       "</div>"
      ],
      "text/plain": [
       "   HeartDiseaseorAttack  HighBP  HighChol  CholCheck   BMI  Smoker  Stroke  \\\n",
       "0                   0.0     1.0       1.0        1.0  40.0     1.0     0.0   \n",
       "1                   0.0     0.0       0.0        0.0  25.0     1.0     0.0   \n",
       "2                   0.0     1.0       1.0        1.0  28.0     0.0     0.0   \n",
       "3                   0.0     1.0       0.0        1.0  27.0     0.0     0.0   \n",
       "4                   0.0     1.0       1.0        1.0  24.0     0.0     0.0   \n",
       "\n",
       "   Diabetes  PhysActivity  Fruits  ...  AnyHealthcare  NoDocbcCost  GenHlth  \\\n",
       "0       0.0           0.0     0.0  ...            1.0          0.0      5.0   \n",
       "1       0.0           1.0     0.0  ...            0.0          1.0      3.0   \n",
       "2       0.0           0.0     1.0  ...            1.0          1.0      5.0   \n",
       "3       0.0           1.0     1.0  ...            1.0          0.0      2.0   \n",
       "4       0.0           1.0     1.0  ...            1.0          0.0      2.0   \n",
       "\n",
       "   MentHlth  PhysHlth  DiffWalk  Sex   Age  Education  Income  \n",
       "0      18.0      15.0       1.0  0.0   9.0        4.0     3.0  \n",
       "1       0.0       0.0       0.0  0.0   7.0        6.0     1.0  \n",
       "2      30.0      30.0       1.0  0.0   9.0        4.0     8.0  \n",
       "3       0.0       0.0       0.0  0.0  11.0        3.0     6.0  \n",
       "4       3.0       0.0       0.0  0.0  11.0        5.0     4.0  \n",
       "\n",
       "[5 rows x 22 columns]"
      ]
     },
     "execution_count": 3,
     "metadata": {},
     "output_type": "execute_result"
    }
   ],
   "source": [
    "df.head()"
   ]
  },
  {
   "cell_type": "code",
   "execution_count": 4,
   "metadata": {
    "colab": {
     "base_uri": "https://localhost:8080/"
    },
    "id": "sTnXfnBoxLEu",
    "outputId": "193ae57c-dd6b-4fd8-9c9c-21209b137602"
   },
   "outputs": [
    {
     "data": {
      "text/plain": [
       "(253680, 22)"
      ]
     },
     "execution_count": 4,
     "metadata": {},
     "output_type": "execute_result"
    }
   ],
   "source": [
    "df.shape"
   ]
  },
  {
   "cell_type": "code",
   "execution_count": 5,
   "metadata": {
    "colab": {
     "base_uri": "https://localhost:8080/"
    },
    "id": "evzY_x12MaFT",
    "outputId": "dcd176cf-c037-4943-df53-2097fc53b949"
   },
   "outputs": [
    {
     "data": {
      "text/plain": [
       "HeartDiseaseorAttack    0\n",
       "HighBP                  0\n",
       "HighChol                0\n",
       "CholCheck               0\n",
       "BMI                     0\n",
       "Smoker                  0\n",
       "Stroke                  0\n",
       "Diabetes                0\n",
       "PhysActivity            0\n",
       "Fruits                  0\n",
       "Veggies                 0\n",
       "HvyAlcoholConsump       0\n",
       "AnyHealthcare           0\n",
       "NoDocbcCost             0\n",
       "GenHlth                 0\n",
       "MentHlth                0\n",
       "PhysHlth                0\n",
       "DiffWalk                0\n",
       "Sex                     0\n",
       "Age                     0\n",
       "Education               0\n",
       "Income                  0\n",
       "dtype: int64"
      ]
     },
     "execution_count": 5,
     "metadata": {},
     "output_type": "execute_result"
    }
   ],
   "source": [
    "df.isnull().sum()"
   ]
  },
  {
   "cell_type": "markdown",
   "metadata": {
    "id": "xHmNm43YIbpT"
   },
   "source": [
    "## Feature Selection"
   ]
  },
  {
   "cell_type": "code",
   "execution_count": 6,
   "metadata": {
    "colab": {
     "base_uri": "https://localhost:8080/"
    },
    "id": "pjQGJScbj72M",
    "outputId": "e3aa16fd-1289-4cf2-b505-0db1527d6737"
   },
   "outputs": [
    {
     "name": "stdout",
     "output_type": "stream",
     "text": [
      "<class 'pandas.core.frame.DataFrame'>\n",
      "RangeIndex: 253680 entries, 0 to 253679\n",
      "Data columns (total 22 columns):\n",
      " #   Column                Non-Null Count   Dtype  \n",
      "---  ------                --------------   -----  \n",
      " 0   HeartDiseaseorAttack  253680 non-null  float64\n",
      " 1   HighBP                253680 non-null  float64\n",
      " 2   HighChol              253680 non-null  float64\n",
      " 3   CholCheck             253680 non-null  float64\n",
      " 4   BMI                   253680 non-null  float64\n",
      " 5   Smoker                253680 non-null  float64\n",
      " 6   Stroke                253680 non-null  float64\n",
      " 7   Diabetes              253680 non-null  float64\n",
      " 8   PhysActivity          253680 non-null  float64\n",
      " 9   Fruits                253680 non-null  float64\n",
      " 10  Veggies               253680 non-null  float64\n",
      " 11  HvyAlcoholConsump     253680 non-null  float64\n",
      " 12  AnyHealthcare         253680 non-null  float64\n",
      " 13  NoDocbcCost           253680 non-null  float64\n",
      " 14  GenHlth               253680 non-null  float64\n",
      " 15  MentHlth              253680 non-null  float64\n",
      " 16  PhysHlth              253680 non-null  float64\n",
      " 17  DiffWalk              253680 non-null  float64\n",
      " 18  Sex                   253680 non-null  float64\n",
      " 19  Age                   253680 non-null  float64\n",
      " 20  Education             253680 non-null  float64\n",
      " 21  Income                253680 non-null  float64\n",
      "dtypes: float64(22)\n",
      "memory usage: 42.6 MB\n"
     ]
    }
   ],
   "source": [
    "df.info()"
   ]
  },
  {
   "cell_type": "code",
   "execution_count": 7,
   "metadata": {
    "colab": {
     "base_uri": "https://localhost:8080/"
    },
    "id": "YPihAVyK_j0C",
    "outputId": "dbe5e8fe-7640-4dd0-b5ba-3326d4109fb2"
   },
   "outputs": [
    {
     "name": "stdout",
     "output_type": "stream",
     "text": [
      "HeartDiseaseorAttack\n",
      "[0. 1.]\n",
      "\n",
      "HighBP\n",
      "[1. 0.]\n",
      "\n",
      "HighChol\n",
      "[1. 0.]\n",
      "\n",
      "CholCheck\n",
      "[1. 0.]\n",
      "\n",
      "BMI\n",
      "[40. 25. 28. 27. 24. 30. 34. 26. 33. 21. 23. 22. 38. 32. 37. 31. 29. 20.\n",
      " 35. 45. 39. 19. 47. 18. 36. 43. 55. 49. 42. 17. 16. 41. 44. 50. 59. 48.\n",
      " 52. 46. 54. 57. 53. 14. 15. 51. 58. 63. 61. 56. 74. 62. 64. 66. 73. 85.\n",
      " 60. 67. 65. 70. 82. 79. 92. 68. 72. 88. 96. 13. 81. 71. 75. 12. 77. 69.\n",
      " 76. 87. 89. 84. 95. 98. 91. 86. 83. 80. 90. 78.]\n",
      "\n",
      "Smoker\n",
      "[1. 0.]\n",
      "\n",
      "Stroke\n",
      "[0. 1.]\n",
      "\n",
      "Diabetes\n",
      "[0. 2. 1.]\n",
      "\n",
      "PhysActivity\n",
      "[0. 1.]\n",
      "\n",
      "Fruits\n",
      "[0. 1.]\n",
      "\n",
      "Veggies\n",
      "[1. 0.]\n",
      "\n",
      "HvyAlcoholConsump\n",
      "[0. 1.]\n",
      "\n",
      "AnyHealthcare\n",
      "[1. 0.]\n",
      "\n",
      "NoDocbcCost\n",
      "[0. 1.]\n",
      "\n",
      "GenHlth\n",
      "[5. 3. 2. 4. 1.]\n",
      "\n",
      "MentHlth\n",
      "[18.  0. 30.  3.  5. 15. 10.  6. 20.  2. 25.  1.  4.  7.  8. 21. 14. 26.\n",
      " 29. 16. 28. 11. 12. 24. 17. 13. 27. 19. 22.  9. 23.]\n",
      "\n",
      "PhysHlth\n",
      "[15.  0. 30.  2. 14. 28.  7. 20.  3. 10.  1.  5. 17.  4. 19.  6. 12. 25.\n",
      " 27. 21. 22.  8. 29. 24.  9. 16. 18. 23. 13. 26. 11.]\n",
      "\n",
      "DiffWalk\n",
      "[1. 0.]\n",
      "\n",
      "Sex\n",
      "[0. 1.]\n",
      "\n",
      "Age\n",
      "[ 9.  7. 11. 10.  8. 13.  4.  6.  2. 12.  5.  1.  3.]\n",
      "\n",
      "Education\n",
      "[4. 6. 3. 5. 2. 1.]\n",
      "\n",
      "Income\n",
      "[3. 1. 8. 6. 4. 7. 2. 5.]\n",
      "\n"
     ]
    }
   ],
   "source": [
    "for i in df.columns:\n",
    "    print(i)\n",
    "    print(df[i].unique())\n",
    "    print()"
   ]
  },
  {
   "cell_type": "code",
   "execution_count": 8,
   "metadata": {
    "id": "Izzowrb4IG8h"
   },
   "outputs": [],
   "source": [
    "for i in df.columns:\n",
    "    df[i]=df[i].astype(int)"
   ]
  },
  {
   "cell_type": "code",
   "execution_count": 9,
   "metadata": {
    "colab": {
     "base_uri": "https://localhost:8080/"
    },
    "id": "iO0DdHJGJ8DZ",
    "outputId": "6f8e6e98-208e-47fe-f425-c3fb62824e00"
   },
   "outputs": [
    {
     "name": "stdout",
     "output_type": "stream",
     "text": [
      "<class 'pandas.core.frame.DataFrame'>\n",
      "RangeIndex: 253680 entries, 0 to 253679\n",
      "Data columns (total 22 columns):\n",
      " #   Column                Non-Null Count   Dtype\n",
      "---  ------                --------------   -----\n",
      " 0   HeartDiseaseorAttack  253680 non-null  int64\n",
      " 1   HighBP                253680 non-null  int64\n",
      " 2   HighChol              253680 non-null  int64\n",
      " 3   CholCheck             253680 non-null  int64\n",
      " 4   BMI                   253680 non-null  int64\n",
      " 5   Smoker                253680 non-null  int64\n",
      " 6   Stroke                253680 non-null  int64\n",
      " 7   Diabetes              253680 non-null  int64\n",
      " 8   PhysActivity          253680 non-null  int64\n",
      " 9   Fruits                253680 non-null  int64\n",
      " 10  Veggies               253680 non-null  int64\n",
      " 11  HvyAlcoholConsump     253680 non-null  int64\n",
      " 12  AnyHealthcare         253680 non-null  int64\n",
      " 13  NoDocbcCost           253680 non-null  int64\n",
      " 14  GenHlth               253680 non-null  int64\n",
      " 15  MentHlth              253680 non-null  int64\n",
      " 16  PhysHlth              253680 non-null  int64\n",
      " 17  DiffWalk              253680 non-null  int64\n",
      " 18  Sex                   253680 non-null  int64\n",
      " 19  Age                   253680 non-null  int64\n",
      " 20  Education             253680 non-null  int64\n",
      " 21  Income                253680 non-null  int64\n",
      "dtypes: int64(22)\n",
      "memory usage: 42.6 MB\n"
     ]
    }
   ],
   "source": [
    "df.info()"
   ]
  },
  {
   "cell_type": "markdown",
   "metadata": {
    "id": "XkgSqz9HmXCH"
   },
   "source": [
    "## Correlation graph"
   ]
  },
  {
   "cell_type": "code",
   "execution_count": 10,
   "metadata": {
    "colab": {
     "base_uri": "https://localhost:8080/",
     "height": 662
    },
    "id": "pZgXYhUx_iuC",
    "outputId": "6005c9e6-6719-424a-9563-7b6a40dab7f8"
   },
   "outputs": [
    {
     "data": {
      "image/png": "[encoded data removed]",
      "text/plain": [
       "<Figure size 1296x576 with 2 Axes>"
      ]
     },
     "metadata": {
      "needs_background": "light"
     },
     "output_type": "display_data"
    }
   ],
   "source": [
    "plt.figure(figsize=(18,8))\n",
    "import seaborn as sns\n",
    "sns.heatmap(df.corr(),annot=True,cmap=\"coolwarm\")\n",
    "plt.show()"
   ]
  },
  {
   "cell_type": "code",
   "execution_count": 11,
   "metadata": {
    "id": "0Pn_PZvTIHAW"
   },
   "outputs": [],
   "source": [
    "X=df.drop(columns=[\"HeartDiseaseorAttack\"])\n",
    "y=df[\"HeartDiseaseorAttack\"]"
   ]
  },
  {
   "cell_type": "code",
   "execution_count": 12,
   "metadata": {
    "id": "8sDPPVo3IHD_"
   },
   "outputs": [],
   "source": [
    "from sklearn.model_selection import train_test_split\n",
    "x_train,x_test,y_train,y_test=train_test_split(X,y,train_size=0.2,random_state=42)"
   ]
  },
  {
   "cell_type": "code",
   "execution_count": 13,
   "metadata": {
    "id": "4qljAFOxIHHf"
   },
   "outputs": [],
   "source": [
    "from sklearn.preprocessing import StandardScaler"
   ]
  },
  {
   "cell_type": "code",
   "execution_count": 14,
   "metadata": {
    "id": "bEcF1Pe5K3Yv"
   },
   "outputs": [],
   "source": [
    "sc=StandardScaler()"
   ]
  },
  {
   "cell_type": "code",
   "execution_count": 15,
   "metadata": {
    "id": "gEUOnJ2_K3fi"
   },
   "outputs": [],
   "source": [
    "x_train= sc.fit_transform(x_train)\n",
    "x_test=sc.transform(x_test)"
   ]
  },
  {
   "cell_type": "markdown",
   "metadata": {
    "id": "9f8uxKUtPzfR"
   },
   "source": [
    "## Simple decision tree"
   ]
  },
  {
   "cell_type": "code",
   "execution_count": 17,
   "metadata": {
    "id": "foU_PIxNP2cP"
   },
   "outputs": [],
   "source": [
    "from sklearn.tree import DecisionTreeClassifier\n",
    "model_ = DecisionTreeClassifier()\n",
    "model_.fit(x_train, y_train)\n",
    "pred_ = model_.predict(x_test)"
   ]
  },
  {
   "cell_type": "code",
   "execution_count": 18,
   "metadata": {
    "colab": {
     "base_uri": "https://localhost:8080/"
    },
    "id": "TQ9av_ftQJoV",
    "outputId": "809b0c62-4aa8-4146-cd5b-03747a016844"
   },
   "outputs": [
    {
     "data": {
      "text/plain": [
       "0.8468148848943551"
      ]
     },
     "execution_count": 18,
     "metadata": {},
     "output_type": "execute_result"
    }
   ],
   "source": [
    "from sklearn.metrics import classification_report, confusion_matrix,accuracy_score\n",
    "accuracy_score(y_test, pred_)"
   ]
  },
  {
   "cell_type": "markdown",
   "metadata": {
    "id": "R0rd6-8dRCIb"
   },
   "source": [
    "# Bagging Classifier, RandomForest, and ExtraTreesClassifier\n",
    "\n",
    "Bagging Classifier, RandomForest, and ExtraTreesClassifier are ensemble learning methods that use a combination of multiple individual models to make predictions. They are all based on the concept of decision trees and aim to improve the overall accuracy and robustness of the predictions. However, there are some differences among these methods:\n",
    "\n",
    "**BaggingClassifier**: It stands for Bootstrap Aggregating. It creates an ensemble by training multiple instances of a base estimator (e.g., decision trees) on different subsets of the training data, which are generated through bootstrap sampling (sampling with replacement). Each base estimator is trained independently, and the final prediction is obtained by averaging the predictions of all base estimators (for regression) or by voting (for classification). BaggingClassifier reduces variance and helps to prevent overfitting. It can work with any base estimator.\n",
    "\n",
    "**Random Forest**: It is an extension of the bagging method. Like BaggingClassifier, it creates an ensemble of base estimators through bootstrap sampling. However, in Random Forest, each base estimator (decision tree) is trained on a random subset of features, rather than using all the features. This random subset of features helps to decorrelate the base estimators and increase the diversity of the ensemble. The final prediction in Random Forest is obtained by averaging the predictions of all base estimators (for regression) or by voting (for classification).\n",
    "\n",
    "**ExtraTreesClassifier**: It is similar to Random Forest but with some key differences. Like Random Forest, it also creates an ensemble of base estimators through bootstrap sampling and random feature selection. However, ExtraTreesClassifier takes the random feature selection one step further. While Random Forest only considers a random subset of features at each split point, ExtraTreesClassifier considers all features and randomly selects the best split. This additional randomness leads to faster training times but can result in slightly higher bias. The final prediction in ExtraTreesClassifier is obtained by averaging the predictions of all base estimators (for regression) or by voting (for classification).\n",
    "\n",
    "In summary, BaggingClassifier builds an ensemble by training multiple instances of a base estimator on different bootstrap samples, while Random Forest and ExtraTreesClassifier are variations of BaggingClassifier that introduce additional randomization in the training process, such as random feature selection. Random Forest uses a random subset of features at each split point, while ExtraTreesClassifier considers all features and randomly selects the best split."
   ]
  },
  {
   "cell_type": "markdown",
   "metadata": {
    "id": "0KAFspWQSXp3"
   },
   "source": [
    "#Random Forest v/s Extra trees\n",
    "\n",
    "\n",
    "**Randomness in feature selection**: Random Forest randomly selects a subset of features at each split point of a decision tree, considering the best split among them. Extra Trees, on the other hand, randomly selects random thresholds for each feature and selects the best split based on these random thresholds. In essence, Extra Trees adds an additional level of randomness in the selection of both features and thresholds, making it even more random than Random Forest.\n",
    "\n",
    "**Bootstrap sampling**: Random Forest uses bootstrap sampling, which means that each decision tree in the forest is trained on a random subset of the original training data with replacement. Extra Trees, however, does not use bootstrap sampling. It selects random subsets of the training data without replacement for each decision tree."
   ]
  },
  {
   "cell_type": "markdown",
   "metadata": {
    "id": "O3br6u1qZGpx"
   },
   "source": [
    "## Random Forest"
   ]
  },
  {
   "cell_type": "code",
   "execution_count": 20,
   "metadata": {
    "id": "EWpRKcXaIHnv"
   },
   "outputs": [],
   "source": [
    "from sklearn.ensemble import RandomForestClassifier\n",
    "rfc=RandomForestClassifier(n_estimators=100,random_state=42)\n",
    "rfc.fit(x_train,y_train)\n",
    "y_pred=rfc.predict(x_test)"
   ]
  },
  {
   "cell_type": "code",
   "execution_count": 21,
   "metadata": {
    "id": "9yf-IBMAOPzJ"
   },
   "outputs": [],
   "source": [
    "from sklearn.metrics import confusion_matrix,accuracy_score"
   ]
  },
  {
   "cell_type": "code",
   "execution_count": 22,
   "metadata": {
    "colab": {
     "base_uri": "https://localhost:8080/"
    },
    "id": "8vE-LDo4OVr0",
    "outputId": "872dc1b0-2d59-49fa-975d-ed98657bb18e"
   },
   "outputs": [
    {
     "data": {
      "text/plain": [
       "array([[181732,  17272],\n",
       "       [  2147,   1793]])"
      ]
     },
     "execution_count": 22,
     "metadata": {},
     "output_type": "execute_result"
    }
   ],
   "source": [
    "confusion_matrix(y_pred,y_test)"
   ]
  },
  {
   "cell_type": "code",
   "execution_count": 23,
   "metadata": {
    "colab": {
     "base_uri": "https://localhost:8080/"
    },
    "id": "wi_nkB3NRhaR",
    "outputId": "9d6488b3-4c87-4e88-b54f-c4055274981c"
   },
   "outputs": [
    {
     "data": {
      "text/plain": [
       "0.9043135052034059"
      ]
     },
     "execution_count": 23,
     "metadata": {},
     "output_type": "execute_result"
    }
   ],
   "source": [
    "accuracy_score(y_test,y_pred)"
   ]
  },
  {
   "cell_type": "code",
   "execution_count": 24,
   "metadata": {
    "id": "VYNbG_eILcU6"
   },
   "outputs": [],
   "source": [
    "from sklearn.metrics import classification_report"
   ]
  },
  {
   "cell_type": "code",
   "execution_count": 25,
   "metadata": {
    "colab": {
     "base_uri": "https://localhost:8080/"
    },
    "id": "PhqcGLpFLbX_",
    "outputId": "1591910e-77df-48dc-d992-c45508268162"
   },
   "outputs": [
    {
     "name": "stdout",
     "output_type": "stream",
     "text": [
      "              precision    recall  f1-score   support\n",
      "\n",
      "           0       0.91      0.99      0.95    183879\n",
      "           1       0.46      0.09      0.16     19065\n",
      "\n",
      "    accuracy                           0.90    202944\n",
      "   macro avg       0.68      0.54      0.55    202944\n",
      "weighted avg       0.87      0.90      0.87    202944\n",
      "\n"
     ]
    }
   ],
   "source": [
    "print(classification_report(y_test,y_pred))"
   ]
  },
  {
   "cell_type": "markdown",
   "metadata": {
    "id": "oDJfL-0XZJuF"
   },
   "source": [
    "## Bagged Decision Trees"
   ]
  },
  {
   "cell_type": "code",
   "execution_count": 27,
   "metadata": {
    "id": "5pwC1PMOwR_I"
   },
   "outputs": [],
   "source": [
    "from sklearn.tree import DecisionTreeClassifier\n",
    "tree = DecisionTreeClassifier()"
   ]
  },
  {
   "cell_type": "code",
   "execution_count": 28,
   "metadata": {
    "colab": {
     "base_uri": "https://localhost:8080/"
    },
    "id": "HsYDl_zXLbhM",
    "outputId": "6693c1f2-6fd9-492d-8493-097d0f206db4"
   },
   "outputs": [
    {
     "name": "stdout",
     "output_type": "stream",
     "text": [
      "              precision    recall  f1-score   support\n",
      "\n",
      "           0       0.92      0.98      0.95    183879\n",
      "           1       0.40      0.14      0.21     19065\n",
      "\n",
      "    accuracy                           0.90    202944\n",
      "   macro avg       0.66      0.56      0.58    202944\n",
      "weighted avg       0.87      0.90      0.88    202944\n",
      "\n"
     ]
    }
   ],
   "source": [
    "from sklearn.ensemble import BaggingClassifier\n",
    "bc=BaggingClassifier(base_estimator=tree, n_estimators=100, random_state=42)\n",
    "bc.fit(x_train,y_train)\n",
    "y_pred=bc.predict(x_test)\n",
    "print(classification_report(y_test,y_pred))"
   ]
  },
  {
   "cell_type": "code",
   "execution_count": 29,
   "metadata": {
    "colab": {
     "base_uri": "https://localhost:8080/"
    },
    "id": "Xzm_qytdQUR8",
    "outputId": "a7f87676-967a-49fa-9235-c2318d73cbdb"
   },
   "outputs": [
    {
     "data": {
      "text/plain": [
       "0.899750670135604"
      ]
     },
     "execution_count": 29,
     "metadata": {},
     "output_type": "execute_result"
    }
   ],
   "source": [
    "accuracy_score(y_test,y_pred)"
   ]
  },
  {
   "cell_type": "markdown",
   "metadata": {
    "id": "WxItpcCVZb7Q"
   },
   "source": [
    "## Extra Trees"
   ]
  },
  {
   "cell_type": "code",
   "execution_count": 31,
   "metadata": {
    "id": "jrN_MeOZN6iT"
   },
   "outputs": [],
   "source": [
    "from sklearn.ensemble import ExtraTreesClassifier"
   ]
  },
  {
   "cell_type": "code",
   "execution_count": 32,
   "metadata": {
    "id": "21Xu9CsEN32J"
   },
   "outputs": [],
   "source": [
    "et=ExtraTreesClassifier(n_estimators=100, max_features=15, random_state=42)\n",
    "et.fit(x_train,y_train)\n",
    "y_pred=et.predict(x_test)"
   ]
  },
  {
   "cell_type": "code",
   "execution_count": 33,
   "metadata": {
    "colab": {
     "base_uri": "https://localhost:8080/"
    },
    "id": "ujArdtIlN4RR",
    "outputId": "992a7be0-8231-486c-c3df-12a414f7c075"
   },
   "outputs": [
    {
     "data": {
      "text/plain": [
       "0.8913739750867234"
      ]
     },
     "execution_count": 33,
     "metadata": {},
     "output_type": "execute_result"
    }
   ],
   "source": [
    "accuracy_score(y_test,y_pred)"
   ]
  },
  {
   "cell_type": "code",
   "execution_count": 34,
   "metadata": {
    "colab": {
     "base_uri": "https://localhost:8080/"
    },
    "id": "9PQvXHqBN4dC",
    "outputId": "a16ba588-e301-42c3-b668-06a41d5cc395"
   },
   "outputs": [
    {
     "data": {
      "text/plain": [
       "array([[177539,   6340],\n",
       "       [ 15705,   3360]])"
      ]
     },
     "execution_count": 34,
     "metadata": {},
     "output_type": "execute_result"
    }
   ],
   "source": [
    "confusion_matrix(y_test,y_pred)"
   ]
  },
  {
   "cell_type": "code",
   "execution_count": 35,
   "metadata": {
    "colab": {
     "base_uri": "https://localhost:8080/"
    },
    "id": "mlTbqOVSN4pD",
    "outputId": "77f3818e-352f-441b-bebc-ddf1273437b2"
   },
   "outputs": [
    {
     "name": "stdout",
     "output_type": "stream",
     "text": [
      "              precision    recall  f1-score   support\n",
      "\n",
      "           0       0.92      0.97      0.94    183879\n",
      "           1       0.35      0.18      0.23     19065\n",
      "\n",
      "    accuracy                           0.89    202944\n",
      "   macro avg       0.63      0.57      0.59    202944\n",
      "weighted avg       0.86      0.89      0.88    202944\n",
      "\n"
     ]
    }
   ],
   "source": [
    "print(classification_report(y_test,y_pred))"
   ]
  },
  {
   "cell_type": "markdown",
   "metadata": {
    "id": "hTlqQr6rN407"
   },
   "source": [
    "## Boosting Algorithms"
   ]
  },
  {
   "cell_type": "markdown",
   "metadata": {
    "id": "33yZ1YVNRmXP"
   },
   "source": [
    "The **AdaBoost algorithm** works as follows:\n",
    "\n",
    "\n",
    "**1. Initialization:** Each sample in the training dataset is assigned an equal weight initially.\n",
    "\n",
    "**2.Training weak learners:** AdaBoost starts by training a weak learner (e.g., decision stump - a simple decision tree with a single split) on the training data. The weak learner aims to perform better than random guessing on the weighted samples.\n",
    "\n",
    "**3. Weighted error calculation**: After the weak learner is trained, its performance is evaluated by calculating the weighted error. The weighted error is the sum of the weights of the misclassified samples divided by the sum of all weights. It measures how well the weak learner predicts the training samples.\n",
    "\n",
    "**4. Updating sample weights**: Based on the weighted error, the weights of the misclassified samples are increased, making them more important for subsequent training iterations. Conversely, the weights of correctly classified samples are decreased. This way, the next weak learner will focus more on the previously misclassified samples.\n",
    "\n",
    "**5. Building the ensemble**: Steps 2-4 are repeated for a specified number of iterations or until a desired level of performance is reached. In each iteration, a new weak learner is trained on the updated weights of the samples. The weak learners are added to the ensemble, and their weights are determined based on their performance.\n",
    "\n",
    "**6. Final prediction**: To make a prediction on new, unseen data, AdaBoost combines the predictions of all weak learners in the ensemble. The contribution of each weak learner is determined by its performance during training (weighted by its weight in the ensemble). Typically, a weighted majority voting or weighted average is used to combine the predictions.\n",
    "\n",
    "\n",
    "\n",
    "**Here are some of the advantages of using AdaBoost:**\n",
    "\n",
    "It can be used with a variety of weak learners, making it a versatile algorithm.\n",
    "It can be effective for problems where the data is imbalanced or noisy.\n",
    "It can be used to improve the performance of other machine learning algorithms.\n",
    "\n",
    "\n",
    "**Here are some of the disadvantages of using AdaBoost:**\n",
    "\n",
    "It can be computationally expensive to train.\n",
    "It can be sensitive to the choice of hyperparameters.\n",
    "It can be difficult to interpret the results of AdaBoost."
   ]
  },
  {
   "cell_type": "markdown",
   "metadata": {},
   "source": [
    "## AdaBoost (Adaptive Boosting)"
   ]
  },
  {
   "cell_type": "code",
   "execution_count": 37,
   "metadata": {
    "id": "539gsGDgN5A1"
   },
   "outputs": [],
   "source": [
    "from sklearn.ensemble import AdaBoostClassifier\n",
    "abc=AdaBoostClassifier(n_estimators=100)\n",
    "abc.fit(x_train,y_train)\n",
    "y_pred=abc.predict(x_test)"
   ]
  },
  {
   "cell_type": "code",
   "execution_count": 38,
   "metadata": {
    "colab": {
     "base_uri": "https://localhost:8080/"
    },
    "id": "quSVxVdcNrd8",
    "outputId": "f2e4b2d6-770e-45d1-ab2b-74a0caf25703"
   },
   "outputs": [
    {
     "data": {
      "text/plain": [
       "0.9073488252917061"
      ]
     },
     "execution_count": 38,
     "metadata": {},
     "output_type": "execute_result"
    }
   ],
   "source": [
    "accuracy_score(y_test,y_pred)"
   ]
  },
  {
   "cell_type": "markdown",
   "metadata": {
    "id": "PaoapsdrS_fV"
   },
   "source": [
    "# Gradient Boosting\n",
    "\n",
    "Here's a step-by-step explanation of how Gradient Boosting works:\n",
    "\n",
    "**Initialization**: A simple model is created, usually in the form of a decision tree with a fixed number of levels (depth) or leaves. This model is often called the \"base model\" or \"initial model.\"\n",
    "\n",
    "**Residual Calculation**: The initial model is used to make predictions on the training data. The residuals, which are the differences between the actual and predicted values, are calculated for each training sample. Initially, these residuals are the target variable itself.\n",
    "\n",
    "**Training weak learners:** A new weak learner (decision tree) is trained to predict the residuals from the previous step. The goal is to fit the new model to the residuals, capturing the patterns that the initial model missed.\n",
    "\n",
    "**Updating the ensemble:** The newly trained weak learner is added to the ensemble, and its predictions are combined with the predictions of the previous models. The predictions are weighted according to the learning rate, which controls the contribution of each weak learner to the final prediction. The learning rate is a hyperparameter that determines how much each new model contributes to the ensemble.\n",
    "\n",
    "**Residual Update**: The residuals are updated by subtracting the predictions of the newly added weak learner. This step refines the residuals, making them closer to the true underlying patterns in the data.\n",
    "\n",
    "**Iteration**: Steps 3-5 are repeated for a specified number of iterations or until a predefined stopping criterion is met. Each iteration adds a new weak learner to the ensemble, updating the ensemble's predictions and refining the residuals.\n",
    "\n",
    "**Final prediction:** To make predictions on new, unseen data, the ensemble of weak learners is used. The predictions of all weak learners are combined, typically by averaging them, to obtain the final prediction.\n",
    "\n",
    "\n",
    "\n",
    "**Here are some of the advantages of using SGB:**\n",
    "\n",
    "It is a powerful algorithm that can be used to solve a variety of problems.\n",
    "\n",
    "It can be effective for problems where the data is noisy or where there are a large number of features.\n",
    "\n",
    "It is relatively easy to implement.\n",
    "\n",
    "**Here are some of the disadvantages of using SGB:**\n",
    "\n",
    "It can be computationally expensive to train.\n",
    "\n",
    "It can be sensitive to the choice of hyperparameters.\n",
    "\n",
    "It can be difficult to interpret the results of SGB."
   ]
  },
  {
   "cell_type": "markdown",
   "metadata": {},
   "source": [
    "## Stochastic Gradient Boosting"
   ]
  },
  {
   "cell_type": "code",
   "execution_count": 39,
   "metadata": {
    "id": "NdbI-AQGgI2Z"
   },
   "outputs": [],
   "source": [
    "from sklearn.ensemble import GradientBoostingClassifier\n",
    "gbc=GradientBoostingClassifier(n_estimators=100, random_state=42)\n",
    "gbc.fit(x_train,y_train)\n",
    "y_pred=gbc.predict(x_test)"
   ]
  },
  {
   "cell_type": "code",
   "execution_count": 40,
   "metadata": {
    "colab": {
     "base_uri": "https://localhost:8080/"
    },
    "id": "TOUbwTZMgI5w",
    "outputId": "92b8a479-eeac-4971-d448-9135248bf79f"
   },
   "outputs": [
    {
     "data": {
      "text/plain": [
       "0.9080288158309682"
      ]
     },
     "execution_count": 40,
     "metadata": {},
     "output_type": "execute_result"
    }
   ],
   "source": [
    "accuracy_score(y_test,y_pred)"
   ]
  },
  {
   "cell_type": "markdown",
   "metadata": {
    "id": "Xo7jfxk0Tb5K"
   },
   "source": [
    "# XG boost\n",
    "\n",
    "Here are some key features and aspects of XGBoost:\n",
    "\n",
    "**Gradient Boosting Framework:** XGBoost follows the general principle of Gradient Boosting. It creates an ensemble of weak learners (typically decision trees) and iteratively improves their predictions by minimizing a loss function through gradient descent.\n",
    "\n",
    "**Regularization Techniques**: XGBoost incorporates advanced regularization techniques to prevent overfitting and enhance the generalization ability of the model. It includes both L1 and L2 regularization terms (also known as \"Lasso\" and \"Ridge\" regularization, respectively) to control the complexity of the model.\n",
    "\n",
    "**Optimized Tree Construction:** XGBoost employs a more efficient approach to construct decision trees. It uses a technique called \"column block\" to parallelize the tree construction process and optimize memory usage. This significantly speeds up the training process, making XGBoost faster than traditional Gradient Boosting implementations.\n",
    "\n",
    "**Handling Missing Values**: XGBoost has built-in capabilities to handle missing values in the dataset. It automatically learns how to treat missing values during the tree construction process, rather than requiring imputation or explicit handling of missing data by the user.\n",
    "\n",
    "**Parallelization and Distributed Computing:** XGBoost supports parallelization, which leverages multiple CPU cores during training to speed up the process. Additionally, XGBoost can be run in a distributed computing environment, allowing it to scale efficiently to large datasets and clusters of machines.\n",
    "\n",
    "**Optimization Objectives and Evaluation Metrics:** XGBoost provides a wide range of optimization objectives and evaluation metrics to suit different machine learning tasks. It supports common objectives like regression, classification, and ranking, along with various evaluation metrics such as mean squared error (MSE), log loss, and area under the curve (AUC).\n",
    "\n",
    "**Feature Importance and Selection**: XGBoost enables the estimation of feature importance, which helps in understanding the relative contribution of different features in the model's predictions. This information can be used for feature selection or to gain insights into the dataset.\n",
    "\n",
    "Integration with Other Tools and Libraries: XGBoost can be easily integrated with other popular machine learning frameworks and tools such as scikit-learn, Apache Spark, and TensorFlow. This allows for seamless integration into existing machine learning pipelines and workflows."
   ]
  },
  {
   "cell_type": "markdown",
   "metadata": {
    "id": "YYSUzyc4goql"
   },
   "source": [
    "## XGBoost (Xtreme Gradient Boosting)"
   ]
  },
  {
   "cell_type": "code",
   "execution_count": 42,
   "metadata": {
    "id": "3hJI-YCditrR"
   },
   "outputs": [],
   "source": [
    "from xgboost import XGBClassifier"
   ]
  },
  {
   "cell_type": "code",
   "execution_count": 43,
   "metadata": {
    "id": "YlfbSVZhit07"
   },
   "outputs": [],
   "source": [
    "xgb=XGBClassifier()\n",
    "xgb.fit(x_train,y_train)\n",
    "y_pred=xgb.predict(x_test)"
   ]
  },
  {
   "cell_type": "code",
   "execution_count": 44,
   "metadata": {
    "colab": {
     "base_uri": "https://localhost:8080/"
    },
    "id": "lhYuQdtSit-U",
    "outputId": "680ec176-afbb-41ea-e67b-6b8fa4c3b746"
   },
   "outputs": [
    {
     "data": {
      "text/plain": [
       "0.9045549511195207"
      ]
     },
     "execution_count": 44,
     "metadata": {},
     "output_type": "execute_result"
    }
   ],
   "source": [
    "accuracy_score(y_test,y_pred)"
   ]
  },
  {
   "cell_type": "code",
   "execution_count": 45,
   "metadata": {
    "colab": {
     "base_uri": "https://localhost:8080/"
    },
    "id": "BgOnF95-ll9N",
    "outputId": "701f2162-925b-43ee-a558-ee6651eb6540"
   },
   "outputs": [
    {
     "name": "stdout",
     "output_type": "stream",
     "text": [
      "\n",
      "The following command must be run outside of the IPython shell:\n",
      "\n",
      "    $ pip install catboost\n",
      "\n",
      "The Python package manager (pip) can only be used from outside of IPython.\n",
      "Please reissue the `pip` command in a separate terminal or command prompt.\n",
      "\n",
      "See the Python documentation for more information on how to install packages:\n",
      "\n",
      "    https://docs.python.org/3/installing/\n"
     ]
    }
   ],
   "source": [
    "pip install catboost"
   ]
  },
  {
   "cell_type": "markdown",
   "metadata": {
    "id": "AHY9uQj2gouE"
   },
   "source": [
    "## CatBoost (Catogorical Boosting) "
   ]
  },
  {
   "cell_type": "code",
   "execution_count": 1,
   "metadata": {
    "id": "X5crvPvNiuRX"
   },
   "outputs": [
    {
     "name": "stderr",
     "output_type": "stream",
     "text": [
      "/home/vanchhit/anaconda3/lib/python3.7/site-packages/pandas/compat/_optional.py:138: UserWarning: Pandas requires version '2.7.0' or newer of 'numexpr' (version '2.6.8' currently installed).\n",
      "  warnings.warn(msg, UserWarning)\n"
     ]
    }
   ],
   "source": [
    "from catboost import CatBoostClassifier"
   ]
  },
  {
   "cell_type": "code",
   "execution_count": 48,
   "metadata": {
    "colab": {
     "base_uri": "https://localhost:8080/"
    },
    "id": "EQ69iP-tiuHp",
    "outputId": "82d4fc4a-35a6-4ddc-d402-68730c8de027"
   },
   "outputs": [
    {
     "name": "stdout",
     "output_type": "stream",
     "text": [
      "Learning rate set to 0.055094\n",
      "0:\tlearn: 0.6299179\ttotal: 98.8ms\tremaining: 1m 38s\n",
      "1:\tlearn: 0.5721847\ttotal: 113ms\tremaining: 56.2s\n",
      "2:\tlearn: 0.5274785\ttotal: 124ms\tremaining: 41.3s\n",
      "3:\tlearn: 0.4872698\ttotal: 138ms\tremaining: 34.4s\n",
      "4:\tlearn: 0.4535998\ttotal: 154ms\tremaining: 30.7s\n",
      "5:\tlearn: 0.4288757\ttotal: 166ms\tremaining: 27.4s\n",
      "6:\tlearn: 0.4026576\ttotal: 178ms\tremaining: 25.2s\n",
      "7:\tlearn: 0.3819938\ttotal: 189ms\tremaining: 23.5s\n",
      "8:\tlearn: 0.3630126\ttotal: 202ms\tremaining: 22.3s\n",
      "9:\tlearn: 0.3493449\ttotal: 215ms\tremaining: 21.3s\n",
      "10:\tlearn: 0.3358586\ttotal: 228ms\tremaining: 20.5s\n",
      "11:\tlearn: 0.3242981\ttotal: 240ms\tremaining: 19.8s\n",
      "12:\tlearn: 0.3144534\ttotal: 253ms\tremaining: 19.2s\n",
      "13:\tlearn: 0.3059632\ttotal: 266ms\tremaining: 18.7s\n",
      "14:\tlearn: 0.3003191\ttotal: 275ms\tremaining: 18.1s\n",
      "15:\tlearn: 0.2960275\ttotal: 283ms\tremaining: 17.4s\n",
      "16:\tlearn: 0.2903514\ttotal: 295ms\tremaining: 17.1s\n",
      "17:\tlearn: 0.2852584\ttotal: 309ms\tremaining: 16.8s\n",
      "18:\tlearn: 0.2805065\ttotal: 323ms\tremaining: 16.7s\n",
      "19:\tlearn: 0.2767882\ttotal: 336ms\tremaining: 16.5s\n",
      "20:\tlearn: 0.2728108\ttotal: 359ms\tremaining: 16.7s\n",
      "21:\tlearn: 0.2698186\ttotal: 376ms\tremaining: 16.7s\n",
      "22:\tlearn: 0.2669617\ttotal: 392ms\tremaining: 16.7s\n",
      "23:\tlearn: 0.2650823\ttotal: 408ms\tremaining: 16.6s\n",
      "24:\tlearn: 0.2622003\ttotal: 428ms\tremaining: 16.7s\n",
      "25:\tlearn: 0.2604956\ttotal: 444ms\tremaining: 16.6s\n",
      "26:\tlearn: 0.2581312\ttotal: 459ms\tremaining: 16.5s\n",
      "27:\tlearn: 0.2564319\ttotal: 476ms\tremaining: 16.5s\n",
      "28:\tlearn: 0.2546895\ttotal: 488ms\tremaining: 16.4s\n",
      "29:\tlearn: 0.2527951\ttotal: 503ms\tremaining: 16.2s\n",
      "30:\tlearn: 0.2515560\ttotal: 514ms\tremaining: 16.1s\n",
      "31:\tlearn: 0.2505073\ttotal: 527ms\tremaining: 15.9s\n",
      "32:\tlearn: 0.2494891\ttotal: 542ms\tremaining: 15.9s\n",
      "33:\tlearn: 0.2487980\ttotal: 557ms\tremaining: 15.8s\n",
      "34:\tlearn: 0.2477515\ttotal: 575ms\tremaining: 15.8s\n",
      "35:\tlearn: 0.2470003\ttotal: 590ms\tremaining: 15.8s\n",
      "36:\tlearn: 0.2460542\ttotal: 602ms\tremaining: 15.7s\n",
      "37:\tlearn: 0.2457287\ttotal: 615ms\tremaining: 15.6s\n",
      "38:\tlearn: 0.2449558\ttotal: 628ms\tremaining: 15.5s\n",
      "39:\tlearn: 0.2442675\ttotal: 647ms\tremaining: 15.5s\n",
      "40:\tlearn: 0.2435970\ttotal: 667ms\tremaining: 15.6s\n",
      "41:\tlearn: 0.2430078\ttotal: 681ms\tremaining: 15.5s\n",
      "42:\tlearn: 0.2427014\ttotal: 693ms\tremaining: 15.4s\n",
      "43:\tlearn: 0.2422668\ttotal: 709ms\tremaining: 15.4s\n",
      "44:\tlearn: 0.2417568\ttotal: 723ms\tremaining: 15.3s\n",
      "45:\tlearn: 0.2414085\ttotal: 744ms\tremaining: 15.4s\n",
      "46:\tlearn: 0.2409448\ttotal: 762ms\tremaining: 15.4s\n",
      "47:\tlearn: 0.2406452\ttotal: 776ms\tremaining: 15.4s\n",
      "48:\tlearn: 0.2403242\ttotal: 788ms\tremaining: 15.3s\n",
      "49:\tlearn: 0.2399927\ttotal: 801ms\tremaining: 15.2s\n",
      "50:\tlearn: 0.2398074\ttotal: 813ms\tremaining: 15.1s\n",
      "51:\tlearn: 0.2395426\ttotal: 826ms\tremaining: 15.1s\n",
      "52:\tlearn: 0.2393593\ttotal: 843ms\tremaining: 15.1s\n",
      "53:\tlearn: 0.2391063\ttotal: 860ms\tremaining: 15.1s\n",
      "54:\tlearn: 0.2389105\ttotal: 873ms\tremaining: 15s\n",
      "55:\tlearn: 0.2386201\ttotal: 886ms\tremaining: 14.9s\n",
      "56:\tlearn: 0.2384403\ttotal: 898ms\tremaining: 14.9s\n",
      "57:\tlearn: 0.2383498\ttotal: 910ms\tremaining: 14.8s\n",
      "58:\tlearn: 0.2382373\ttotal: 921ms\tremaining: 14.7s\n",
      "59:\tlearn: 0.2380646\ttotal: 935ms\tremaining: 14.6s\n",
      "60:\tlearn: 0.2379179\ttotal: 953ms\tremaining: 14.7s\n",
      "61:\tlearn: 0.2378203\ttotal: 973ms\tremaining: 14.7s\n",
      "62:\tlearn: 0.2376422\ttotal: 990ms\tremaining: 14.7s\n",
      "63:\tlearn: 0.2375592\ttotal: 1s\tremaining: 14.7s\n",
      "64:\tlearn: 0.2373246\ttotal: 1.02s\tremaining: 14.7s\n",
      "65:\tlearn: 0.2371594\ttotal: 1.04s\tremaining: 14.7s\n",
      "66:\tlearn: 0.2370283\ttotal: 1.05s\tremaining: 14.6s\n",
      "67:\tlearn: 0.2369514\ttotal: 1.06s\tremaining: 14.6s\n",
      "68:\tlearn: 0.2368775\ttotal: 1.08s\tremaining: 14.5s\n",
      "69:\tlearn: 0.2367690\ttotal: 1.09s\tremaining: 14.5s\n",
      "70:\tlearn: 0.2366128\ttotal: 1.11s\tremaining: 14.5s\n",
      "71:\tlearn: 0.2364828\ttotal: 1.12s\tremaining: 14.4s\n",
      "72:\tlearn: 0.2363775\ttotal: 1.13s\tremaining: 14.4s\n",
      "73:\tlearn: 0.2362545\ttotal: 1.15s\tremaining: 14.3s\n",
      "74:\tlearn: 0.2361583\ttotal: 1.16s\tremaining: 14.4s\n",
      "75:\tlearn: 0.2360604\ttotal: 1.18s\tremaining: 14.4s\n",
      "76:\tlearn: 0.2358942\ttotal: 1.2s\tremaining: 14.4s\n",
      "77:\tlearn: 0.2357669\ttotal: 1.21s\tremaining: 14.3s\n",
      "78:\tlearn: 0.2356057\ttotal: 1.22s\tremaining: 14.3s\n",
      "79:\tlearn: 0.2354930\ttotal: 1.24s\tremaining: 14.2s\n",
      "80:\tlearn: 0.2353969\ttotal: 1.25s\tremaining: 14.2s\n",
      "81:\tlearn: 0.2352921\ttotal: 1.27s\tremaining: 14.2s\n",
      "82:\tlearn: 0.2352028\ttotal: 1.28s\tremaining: 14.2s\n",
      "83:\tlearn: 0.2351147\ttotal: 1.3s\tremaining: 14.2s\n",
      "84:\tlearn: 0.2350338\ttotal: 1.32s\tremaining: 14.2s\n",
      "85:\tlearn: 0.2349184\ttotal: 1.33s\tremaining: 14.2s\n",
      "86:\tlearn: 0.2347985\ttotal: 1.36s\tremaining: 14.3s\n",
      "87:\tlearn: 0.2346621\ttotal: 1.39s\tremaining: 14.4s\n",
      "88:\tlearn: 0.2345675\ttotal: 1.42s\tremaining: 14.5s\n",
      "89:\tlearn: 0.2344850\ttotal: 1.43s\tremaining: 14.5s\n",
      "90:\tlearn: 0.2344154\ttotal: 1.45s\tremaining: 14.4s\n",
      "91:\tlearn: 0.2343308\ttotal: 1.46s\tremaining: 14.4s\n",
      "92:\tlearn: 0.2342212\ttotal: 1.48s\tremaining: 14.4s\n",
      "93:\tlearn: 0.2341844\ttotal: 1.49s\tremaining: 14.4s\n",
      "94:\tlearn: 0.2341039\ttotal: 1.5s\tremaining: 14.3s\n",
      "95:\tlearn: 0.2340272\ttotal: 1.52s\tremaining: 14.3s\n",
      "96:\tlearn: 0.2339433\ttotal: 1.53s\tremaining: 14.3s\n",
      "97:\tlearn: 0.2338838\ttotal: 1.55s\tremaining: 14.3s\n",
      "98:\tlearn: 0.2338369\ttotal: 1.57s\tremaining: 14.3s\n",
      "99:\tlearn: 0.2337743\ttotal: 1.58s\tremaining: 14.2s\n",
      "100:\tlearn: 0.2336807\ttotal: 1.59s\tremaining: 14.2s\n",
      "101:\tlearn: 0.2335752\ttotal: 1.62s\tremaining: 14.2s\n",
      "102:\tlearn: 0.2334851\ttotal: 1.63s\tremaining: 14.2s\n",
      "103:\tlearn: 0.2334176\ttotal: 1.64s\tremaining: 14.2s\n",
      "104:\tlearn: 0.2333322\ttotal: 1.65s\tremaining: 14.1s\n",
      "105:\tlearn: 0.2332618\ttotal: 1.67s\tremaining: 14.1s\n",
      "106:\tlearn: 0.2331892\ttotal: 1.68s\tremaining: 14s\n",
      "107:\tlearn: 0.2331454\ttotal: 1.69s\tremaining: 14s\n",
      "108:\tlearn: 0.2330638\ttotal: 1.71s\tremaining: 13.9s\n",
      "109:\tlearn: 0.2329908\ttotal: 1.72s\tremaining: 13.9s\n",
      "110:\tlearn: 0.2329125\ttotal: 1.73s\tremaining: 13.9s\n",
      "111:\tlearn: 0.2328711\ttotal: 1.74s\tremaining: 13.8s\n",
      "112:\tlearn: 0.2327958\ttotal: 1.75s\tremaining: 13.8s\n",
      "113:\tlearn: 0.2327218\ttotal: 1.76s\tremaining: 13.7s\n",
      "114:\tlearn: 0.2326770\ttotal: 1.78s\tremaining: 13.7s\n",
      "115:\tlearn: 0.2326454\ttotal: 1.79s\tremaining: 13.6s\n",
      "116:\tlearn: 0.2326024\ttotal: 1.81s\tremaining: 13.7s\n",
      "117:\tlearn: 0.2325162\ttotal: 1.83s\tremaining: 13.7s\n",
      "118:\tlearn: 0.2324253\ttotal: 1.85s\tremaining: 13.7s\n",
      "119:\tlearn: 0.2323735\ttotal: 1.86s\tremaining: 13.6s\n",
      "120:\tlearn: 0.2322816\ttotal: 1.87s\tremaining: 13.6s\n",
      "121:\tlearn: 0.2322078\ttotal: 1.89s\tremaining: 13.6s\n",
      "122:\tlearn: 0.2321349\ttotal: 1.9s\tremaining: 13.5s\n",
      "123:\tlearn: 0.2320440\ttotal: 1.91s\tremaining: 13.5s\n",
      "124:\tlearn: 0.2319867\ttotal: 1.93s\tremaining: 13.5s\n",
      "125:\tlearn: 0.2319132\ttotal: 1.94s\tremaining: 13.4s\n",
      "126:\tlearn: 0.2318862\ttotal: 1.95s\tremaining: 13.4s\n",
      "127:\tlearn: 0.2318104\ttotal: 1.97s\tremaining: 13.4s\n",
      "128:\tlearn: 0.2317171\ttotal: 1.98s\tremaining: 13.4s\n",
      "129:\tlearn: 0.2316626\ttotal: 2s\tremaining: 13.4s\n",
      "130:\tlearn: 0.2315862\ttotal: 2.02s\tremaining: 13.4s\n",
      "131:\tlearn: 0.2315395\ttotal: 2.03s\tremaining: 13.4s\n",
      "132:\tlearn: 0.2314593\ttotal: 2.05s\tremaining: 13.4s\n",
      "133:\tlearn: 0.2314261\ttotal: 2.06s\tremaining: 13.3s\n",
      "134:\tlearn: 0.2313552\ttotal: 2.08s\tremaining: 13.3s\n",
      "135:\tlearn: 0.2313040\ttotal: 2.09s\tremaining: 13.3s\n",
      "136:\tlearn: 0.2312569\ttotal: 2.1s\tremaining: 13.3s\n",
      "137:\tlearn: 0.2311913\ttotal: 2.12s\tremaining: 13.2s\n",
      "138:\tlearn: 0.2311256\ttotal: 2.13s\tremaining: 13.2s\n",
      "139:\tlearn: 0.2310604\ttotal: 2.14s\tremaining: 13.2s\n",
      "140:\tlearn: 0.2310255\ttotal: 2.15s\tremaining: 13.1s\n",
      "141:\tlearn: 0.2309553\ttotal: 2.17s\tremaining: 13.1s\n",
      "142:\tlearn: 0.2309011\ttotal: 2.18s\tremaining: 13.1s\n",
      "143:\tlearn: 0.2308446\ttotal: 2.19s\tremaining: 13s\n",
      "144:\tlearn: 0.2307917\ttotal: 2.2s\tremaining: 13s\n",
      "145:\tlearn: 0.2307721\ttotal: 2.21s\tremaining: 13s\n",
      "146:\tlearn: 0.2306946\ttotal: 2.23s\tremaining: 13s\n",
      "147:\tlearn: 0.2306539\ttotal: 2.25s\tremaining: 13s\n",
      "148:\tlearn: 0.2306001\ttotal: 2.27s\tremaining: 12.9s\n",
      "149:\tlearn: 0.2305291\ttotal: 2.28s\tremaining: 12.9s\n",
      "150:\tlearn: 0.2304767\ttotal: 2.3s\tremaining: 12.9s\n",
      "151:\tlearn: 0.2304223\ttotal: 2.31s\tremaining: 12.9s\n",
      "152:\tlearn: 0.2303828\ttotal: 2.33s\tremaining: 12.9s\n",
      "153:\tlearn: 0.2303301\ttotal: 2.35s\tremaining: 12.9s\n",
      "154:\tlearn: 0.2302620\ttotal: 2.36s\tremaining: 12.9s\n",
      "155:\tlearn: 0.2301725\ttotal: 2.38s\tremaining: 12.9s\n",
      "156:\tlearn: 0.2301028\ttotal: 2.4s\tremaining: 12.9s\n",
      "157:\tlearn: 0.2300408\ttotal: 2.41s\tremaining: 12.9s\n",
      "158:\tlearn: 0.2299981\ttotal: 2.43s\tremaining: 12.9s\n",
      "159:\tlearn: 0.2299256\ttotal: 2.45s\tremaining: 12.9s\n",
      "160:\tlearn: 0.2298560\ttotal: 2.46s\tremaining: 12.8s\n",
      "161:\tlearn: 0.2298119\ttotal: 2.48s\tremaining: 12.8s\n",
      "162:\tlearn: 0.2297536\ttotal: 2.49s\tremaining: 12.8s\n",
      "163:\tlearn: 0.2297000\ttotal: 2.51s\tremaining: 12.8s\n",
      "164:\tlearn: 0.2296484\ttotal: 2.52s\tremaining: 12.7s\n",
      "165:\tlearn: 0.2295895\ttotal: 2.53s\tremaining: 12.7s\n",
      "166:\tlearn: 0.2295433\ttotal: 2.54s\tremaining: 12.7s\n",
      "167:\tlearn: 0.2294850\ttotal: 2.55s\tremaining: 12.7s\n",
      "168:\tlearn: 0.2294111\ttotal: 2.57s\tremaining: 12.6s\n",
      "169:\tlearn: 0.2293364\ttotal: 2.58s\tremaining: 12.6s\n",
      "170:\tlearn: 0.2292930\ttotal: 2.59s\tremaining: 12.6s\n",
      "171:\tlearn: 0.2292537\ttotal: 2.6s\tremaining: 12.5s\n",
      "172:\tlearn: 0.2291758\ttotal: 2.62s\tremaining: 12.5s\n"
     ]
    },
    {
     "name": "stdout",
     "output_type": "stream",
     "text": [
      "173:\tlearn: 0.2291108\ttotal: 2.63s\tremaining: 12.5s\n",
      "174:\tlearn: 0.2290860\ttotal: 2.65s\tremaining: 12.5s\n",
      "175:\tlearn: 0.2290638\ttotal: 2.66s\tremaining: 12.5s\n",
      "176:\tlearn: 0.2289877\ttotal: 2.68s\tremaining: 12.4s\n",
      "177:\tlearn: 0.2289167\ttotal: 2.69s\tremaining: 12.4s\n",
      "178:\tlearn: 0.2288442\ttotal: 2.71s\tremaining: 12.4s\n",
      "179:\tlearn: 0.2287750\ttotal: 2.72s\tremaining: 12.4s\n",
      "180:\tlearn: 0.2287163\ttotal: 2.73s\tremaining: 12.4s\n",
      "181:\tlearn: 0.2286479\ttotal: 2.74s\tremaining: 12.3s\n",
      "182:\tlearn: 0.2285867\ttotal: 2.76s\tremaining: 12.3s\n",
      "183:\tlearn: 0.2285434\ttotal: 2.77s\tremaining: 12.3s\n",
      "184:\tlearn: 0.2284697\ttotal: 2.78s\tremaining: 12.3s\n",
      "185:\tlearn: 0.2284432\ttotal: 2.79s\tremaining: 12.2s\n",
      "186:\tlearn: 0.2284055\ttotal: 2.81s\tremaining: 12.2s\n",
      "187:\tlearn: 0.2283388\ttotal: 2.82s\tremaining: 12.2s\n",
      "188:\tlearn: 0.2282827\ttotal: 2.85s\tremaining: 12.2s\n",
      "189:\tlearn: 0.2282074\ttotal: 2.86s\tremaining: 12.2s\n",
      "190:\tlearn: 0.2281383\ttotal: 2.87s\tremaining: 12.2s\n",
      "191:\tlearn: 0.2280982\ttotal: 2.89s\tremaining: 12.1s\n",
      "192:\tlearn: 0.2280163\ttotal: 2.9s\tremaining: 12.1s\n",
      "193:\tlearn: 0.2279871\ttotal: 2.91s\tremaining: 12.1s\n",
      "194:\tlearn: 0.2279179\ttotal: 2.92s\tremaining: 12.1s\n",
      "195:\tlearn: 0.2278555\ttotal: 2.94s\tremaining: 12.1s\n",
      "196:\tlearn: 0.2277678\ttotal: 2.95s\tremaining: 12s\n",
      "197:\tlearn: 0.2277451\ttotal: 2.96s\tremaining: 12s\n",
      "198:\tlearn: 0.2276727\ttotal: 2.98s\tremaining: 12s\n",
      "199:\tlearn: 0.2276219\ttotal: 2.99s\tremaining: 12s\n",
      "200:\tlearn: 0.2275617\ttotal: 3s\tremaining: 11.9s\n",
      "201:\tlearn: 0.2275359\ttotal: 3.01s\tremaining: 11.9s\n",
      "202:\tlearn: 0.2274732\ttotal: 3.03s\tremaining: 11.9s\n",
      "203:\tlearn: 0.2274193\ttotal: 3.04s\tremaining: 11.9s\n",
      "204:\tlearn: 0.2273661\ttotal: 3.06s\tremaining: 11.9s\n",
      "205:\tlearn: 0.2273094\ttotal: 3.08s\tremaining: 11.9s\n",
      "206:\tlearn: 0.2272631\ttotal: 3.09s\tremaining: 11.8s\n",
      "207:\tlearn: 0.2272398\ttotal: 3.1s\tremaining: 11.8s\n",
      "208:\tlearn: 0.2271882\ttotal: 3.12s\tremaining: 11.8s\n",
      "209:\tlearn: 0.2271363\ttotal: 3.13s\tremaining: 11.8s\n",
      "210:\tlearn: 0.2270709\ttotal: 3.15s\tremaining: 11.8s\n",
      "211:\tlearn: 0.2270148\ttotal: 3.16s\tremaining: 11.7s\n",
      "212:\tlearn: 0.2269504\ttotal: 3.17s\tremaining: 11.7s\n",
      "213:\tlearn: 0.2269199\ttotal: 3.18s\tremaining: 11.7s\n",
      "214:\tlearn: 0.2268364\ttotal: 3.2s\tremaining: 11.7s\n",
      "215:\tlearn: 0.2267551\ttotal: 3.21s\tremaining: 11.6s\n",
      "216:\tlearn: 0.2266781\ttotal: 3.22s\tremaining: 11.6s\n",
      "217:\tlearn: 0.2266419\ttotal: 3.23s\tremaining: 11.6s\n",
      "218:\tlearn: 0.2265832\ttotal: 3.25s\tremaining: 11.6s\n",
      "219:\tlearn: 0.2265257\ttotal: 3.26s\tremaining: 11.6s\n",
      "220:\tlearn: 0.2264702\ttotal: 3.28s\tremaining: 11.6s\n",
      "221:\tlearn: 0.2264455\ttotal: 3.29s\tremaining: 11.5s\n",
      "222:\tlearn: 0.2263828\ttotal: 3.3s\tremaining: 11.5s\n",
      "223:\tlearn: 0.2263379\ttotal: 3.31s\tremaining: 11.5s\n",
      "224:\tlearn: 0.2262992\ttotal: 3.33s\tremaining: 11.5s\n",
      "225:\tlearn: 0.2262664\ttotal: 3.34s\tremaining: 11.4s\n",
      "226:\tlearn: 0.2262007\ttotal: 3.35s\tremaining: 11.4s\n",
      "227:\tlearn: 0.2261622\ttotal: 3.37s\tremaining: 11.4s\n",
      "228:\tlearn: 0.2260986\ttotal: 3.38s\tremaining: 11.4s\n",
      "229:\tlearn: 0.2260353\ttotal: 3.39s\tremaining: 11.4s\n",
      "230:\tlearn: 0.2259690\ttotal: 3.4s\tremaining: 11.3s\n",
      "231:\tlearn: 0.2259084\ttotal: 3.42s\tremaining: 11.3s\n",
      "232:\tlearn: 0.2258652\ttotal: 3.43s\tremaining: 11.3s\n",
      "233:\tlearn: 0.2258111\ttotal: 3.44s\tremaining: 11.3s\n",
      "234:\tlearn: 0.2257850\ttotal: 3.45s\tremaining: 11.2s\n",
      "235:\tlearn: 0.2257468\ttotal: 3.47s\tremaining: 11.2s\n",
      "236:\tlearn: 0.2256888\ttotal: 3.49s\tremaining: 11.2s\n",
      "237:\tlearn: 0.2256073\ttotal: 3.5s\tremaining: 11.2s\n",
      "238:\tlearn: 0.2255638\ttotal: 3.51s\tremaining: 11.2s\n",
      "239:\tlearn: 0.2254894\ttotal: 3.53s\tremaining: 11.2s\n",
      "240:\tlearn: 0.2254397\ttotal: 3.54s\tremaining: 11.2s\n",
      "241:\tlearn: 0.2253399\ttotal: 3.55s\tremaining: 11.1s\n",
      "242:\tlearn: 0.2252941\ttotal: 3.57s\tremaining: 11.1s\n",
      "243:\tlearn: 0.2252179\ttotal: 3.58s\tremaining: 11.1s\n",
      "244:\tlearn: 0.2251697\ttotal: 3.59s\tremaining: 11.1s\n",
      "245:\tlearn: 0.2251083\ttotal: 3.6s\tremaining: 11.1s\n",
      "246:\tlearn: 0.2250386\ttotal: 3.62s\tremaining: 11s\n",
      "247:\tlearn: 0.2249819\ttotal: 3.63s\tremaining: 11s\n",
      "248:\tlearn: 0.2249290\ttotal: 3.65s\tremaining: 11s\n",
      "249:\tlearn: 0.2248816\ttotal: 3.66s\tremaining: 11s\n",
      "250:\tlearn: 0.2248323\ttotal: 3.67s\tremaining: 11s\n",
      "251:\tlearn: 0.2247708\ttotal: 3.69s\tremaining: 11s\n",
      "252:\tlearn: 0.2247137\ttotal: 3.71s\tremaining: 10.9s\n",
      "253:\tlearn: 0.2246548\ttotal: 3.72s\tremaining: 10.9s\n",
      "254:\tlearn: 0.2246300\ttotal: 3.73s\tremaining: 10.9s\n",
      "255:\tlearn: 0.2245581\ttotal: 3.74s\tremaining: 10.9s\n",
      "256:\tlearn: 0.2245228\ttotal: 3.75s\tremaining: 10.9s\n",
      "257:\tlearn: 0.2244634\ttotal: 3.77s\tremaining: 10.8s\n",
      "258:\tlearn: 0.2244178\ttotal: 3.78s\tremaining: 10.8s\n",
      "259:\tlearn: 0.2243956\ttotal: 3.8s\tremaining: 10.8s\n",
      "260:\tlearn: 0.2243435\ttotal: 3.81s\tremaining: 10.8s\n",
      "261:\tlearn: 0.2243238\ttotal: 3.83s\tremaining: 10.8s\n",
      "262:\tlearn: 0.2242827\ttotal: 3.84s\tremaining: 10.8s\n",
      "263:\tlearn: 0.2242494\ttotal: 3.86s\tremaining: 10.8s\n",
      "264:\tlearn: 0.2241814\ttotal: 3.88s\tremaining: 10.8s\n",
      "265:\tlearn: 0.2241614\ttotal: 3.9s\tremaining: 10.8s\n",
      "266:\tlearn: 0.2241189\ttotal: 3.92s\tremaining: 10.8s\n",
      "267:\tlearn: 0.2240789\ttotal: 3.94s\tremaining: 10.8s\n",
      "268:\tlearn: 0.2240226\ttotal: 3.95s\tremaining: 10.7s\n",
      "269:\tlearn: 0.2239968\ttotal: 3.97s\tremaining: 10.7s\n",
      "270:\tlearn: 0.2239487\ttotal: 3.99s\tremaining: 10.7s\n",
      "271:\tlearn: 0.2238975\ttotal: 4.01s\tremaining: 10.7s\n",
      "272:\tlearn: 0.2238372\ttotal: 4.03s\tremaining: 10.7s\n",
      "273:\tlearn: 0.2238073\ttotal: 4.04s\tremaining: 10.7s\n",
      "274:\tlearn: 0.2237718\ttotal: 4.06s\tremaining: 10.7s\n",
      "275:\tlearn: 0.2237221\ttotal: 4.07s\tremaining: 10.7s\n",
      "276:\tlearn: 0.2236575\ttotal: 4.08s\tremaining: 10.7s\n",
      "277:\tlearn: 0.2236253\ttotal: 4.1s\tremaining: 10.6s\n",
      "278:\tlearn: 0.2235694\ttotal: 4.11s\tremaining: 10.6s\n",
      "279:\tlearn: 0.2235129\ttotal: 4.13s\tremaining: 10.6s\n",
      "280:\tlearn: 0.2234458\ttotal: 4.14s\tremaining: 10.6s\n",
      "281:\tlearn: 0.2234034\ttotal: 4.16s\tremaining: 10.6s\n",
      "282:\tlearn: 0.2233392\ttotal: 4.17s\tremaining: 10.6s\n",
      "283:\tlearn: 0.2232966\ttotal: 4.18s\tremaining: 10.5s\n",
      "284:\tlearn: 0.2232522\ttotal: 4.19s\tremaining: 10.5s\n",
      "285:\tlearn: 0.2232207\ttotal: 4.21s\tremaining: 10.5s\n",
      "286:\tlearn: 0.2231531\ttotal: 4.22s\tremaining: 10.5s\n",
      "287:\tlearn: 0.2231079\ttotal: 4.23s\tremaining: 10.5s\n",
      "288:\tlearn: 0.2230411\ttotal: 4.25s\tremaining: 10.4s\n",
      "289:\tlearn: 0.2230079\ttotal: 4.26s\tremaining: 10.4s\n",
      "290:\tlearn: 0.2229494\ttotal: 4.27s\tremaining: 10.4s\n",
      "291:\tlearn: 0.2229228\ttotal: 4.29s\tremaining: 10.4s\n",
      "292:\tlearn: 0.2228997\ttotal: 4.3s\tremaining: 10.4s\n",
      "293:\tlearn: 0.2228818\ttotal: 4.31s\tremaining: 10.4s\n",
      "294:\tlearn: 0.2228620\ttotal: 4.33s\tremaining: 10.3s\n",
      "295:\tlearn: 0.2228048\ttotal: 4.34s\tremaining: 10.3s\n",
      "296:\tlearn: 0.2227625\ttotal: 4.35s\tremaining: 10.3s\n",
      "297:\tlearn: 0.2227184\ttotal: 4.36s\tremaining: 10.3s\n",
      "298:\tlearn: 0.2226729\ttotal: 4.38s\tremaining: 10.3s\n",
      "299:\tlearn: 0.2226223\ttotal: 4.39s\tremaining: 10.2s\n",
      "300:\tlearn: 0.2225658\ttotal: 4.4s\tremaining: 10.2s\n",
      "301:\tlearn: 0.2225363\ttotal: 4.41s\tremaining: 10.2s\n",
      "302:\tlearn: 0.2224843\ttotal: 4.43s\tremaining: 10.2s\n",
      "303:\tlearn: 0.2224358\ttotal: 4.44s\tremaining: 10.2s\n",
      "304:\tlearn: 0.2223799\ttotal: 4.45s\tremaining: 10.1s\n",
      "305:\tlearn: 0.2223127\ttotal: 4.46s\tremaining: 10.1s\n",
      "306:\tlearn: 0.2222578\ttotal: 4.48s\tremaining: 10.1s\n",
      "307:\tlearn: 0.2221969\ttotal: 4.5s\tremaining: 10.1s\n",
      "308:\tlearn: 0.2221519\ttotal: 4.52s\tremaining: 10.1s\n",
      "309:\tlearn: 0.2221133\ttotal: 4.54s\tremaining: 10.1s\n",
      "310:\tlearn: 0.2220719\ttotal: 4.56s\tremaining: 10.1s\n",
      "311:\tlearn: 0.2220102\ttotal: 4.58s\tremaining: 10.1s\n",
      "312:\tlearn: 0.2219485\ttotal: 4.59s\tremaining: 10.1s\n",
      "313:\tlearn: 0.2219030\ttotal: 4.61s\tremaining: 10.1s\n",
      "314:\tlearn: 0.2218491\ttotal: 4.63s\tremaining: 10.1s\n",
      "315:\tlearn: 0.2218177\ttotal: 4.64s\tremaining: 10s\n",
      "316:\tlearn: 0.2217670\ttotal: 4.65s\tremaining: 10s\n",
      "317:\tlearn: 0.2217397\ttotal: 4.67s\tremaining: 10s\n",
      "318:\tlearn: 0.2217115\ttotal: 4.68s\tremaining: 10s\n",
      "319:\tlearn: 0.2216823\ttotal: 4.7s\tremaining: 9.98s\n",
      "320:\tlearn: 0.2216207\ttotal: 4.71s\tremaining: 9.97s\n",
      "321:\tlearn: 0.2215687\ttotal: 4.73s\tremaining: 9.96s\n",
      "322:\tlearn: 0.2215302\ttotal: 4.75s\tremaining: 9.95s\n",
      "323:\tlearn: 0.2214955\ttotal: 4.76s\tremaining: 9.93s\n",
      "324:\tlearn: 0.2214609\ttotal: 4.78s\tremaining: 9.92s\n",
      "325:\tlearn: 0.2214245\ttotal: 4.79s\tremaining: 9.9s\n",
      "326:\tlearn: 0.2213834\ttotal: 4.8s\tremaining: 9.88s\n",
      "327:\tlearn: 0.2213398\ttotal: 4.82s\tremaining: 9.87s\n",
      "328:\tlearn: 0.2212850\ttotal: 4.83s\tremaining: 9.85s\n",
      "329:\tlearn: 0.2212309\ttotal: 4.85s\tremaining: 9.85s\n",
      "330:\tlearn: 0.2211746\ttotal: 4.87s\tremaining: 9.84s\n",
      "331:\tlearn: 0.2211240\ttotal: 4.89s\tremaining: 9.84s\n"
     ]
    },
    {
     "name": "stdout",
     "output_type": "stream",
     "text": [
      "332:\tlearn: 0.2210578\ttotal: 4.92s\tremaining: 9.85s\n",
      "333:\tlearn: 0.2210220\ttotal: 4.93s\tremaining: 9.84s\n",
      "334:\tlearn: 0.2209701\ttotal: 4.96s\tremaining: 9.84s\n",
      "335:\tlearn: 0.2209252\ttotal: 4.97s\tremaining: 9.82s\n",
      "336:\tlearn: 0.2208810\ttotal: 4.98s\tremaining: 9.8s\n",
      "337:\tlearn: 0.2208400\ttotal: 4.99s\tremaining: 9.78s\n",
      "338:\tlearn: 0.2208086\ttotal: 5.01s\tremaining: 9.76s\n",
      "339:\tlearn: 0.2207571\ttotal: 5.02s\tremaining: 9.75s\n",
      "340:\tlearn: 0.2206935\ttotal: 5.03s\tremaining: 9.73s\n",
      "341:\tlearn: 0.2206777\ttotal: 5.05s\tremaining: 9.71s\n",
      "342:\tlearn: 0.2206543\ttotal: 5.06s\tremaining: 9.69s\n",
      "343:\tlearn: 0.2206080\ttotal: 5.07s\tremaining: 9.67s\n",
      "344:\tlearn: 0.2205650\ttotal: 5.08s\tremaining: 9.65s\n",
      "345:\tlearn: 0.2205085\ttotal: 5.1s\tremaining: 9.63s\n",
      "346:\tlearn: 0.2204613\ttotal: 5.11s\tremaining: 9.62s\n",
      "347:\tlearn: 0.2203980\ttotal: 5.13s\tremaining: 9.6s\n",
      "348:\tlearn: 0.2203429\ttotal: 5.14s\tremaining: 9.59s\n",
      "349:\tlearn: 0.2203043\ttotal: 5.16s\tremaining: 9.57s\n",
      "350:\tlearn: 0.2202559\ttotal: 5.17s\tremaining: 9.56s\n",
      "351:\tlearn: 0.2202366\ttotal: 5.18s\tremaining: 9.54s\n",
      "352:\tlearn: 0.2201843\ttotal: 5.19s\tremaining: 9.52s\n",
      "353:\tlearn: 0.2201692\ttotal: 5.21s\tremaining: 9.5s\n",
      "354:\tlearn: 0.2201172\ttotal: 5.22s\tremaining: 9.48s\n",
      "355:\tlearn: 0.2200578\ttotal: 5.23s\tremaining: 9.47s\n",
      "356:\tlearn: 0.2200193\ttotal: 5.25s\tremaining: 9.45s\n",
      "357:\tlearn: 0.2199642\ttotal: 5.26s\tremaining: 9.43s\n",
      "358:\tlearn: 0.2199296\ttotal: 5.27s\tremaining: 9.41s\n",
      "359:\tlearn: 0.2198815\ttotal: 5.29s\tremaining: 9.4s\n",
      "360:\tlearn: 0.2198531\ttotal: 5.3s\tremaining: 9.38s\n",
      "361:\tlearn: 0.2198104\ttotal: 5.31s\tremaining: 9.36s\n",
      "362:\tlearn: 0.2197600\ttotal: 5.33s\tremaining: 9.35s\n",
      "363:\tlearn: 0.2197105\ttotal: 5.34s\tremaining: 9.33s\n",
      "364:\tlearn: 0.2196544\ttotal: 5.35s\tremaining: 9.31s\n",
      "365:\tlearn: 0.2196107\ttotal: 5.37s\tremaining: 9.3s\n",
      "366:\tlearn: 0.2195948\ttotal: 5.38s\tremaining: 9.28s\n",
      "367:\tlearn: 0.2195670\ttotal: 5.4s\tremaining: 9.27s\n",
      "368:\tlearn: 0.2195157\ttotal: 5.41s\tremaining: 9.25s\n",
      "369:\tlearn: 0.2194427\ttotal: 5.42s\tremaining: 9.23s\n",
      "370:\tlearn: 0.2193790\ttotal: 5.43s\tremaining: 9.21s\n",
      "371:\tlearn: 0.2193200\ttotal: 5.45s\tremaining: 9.2s\n",
      "372:\tlearn: 0.2192918\ttotal: 5.46s\tremaining: 9.18s\n",
      "373:\tlearn: 0.2192507\ttotal: 5.48s\tremaining: 9.17s\n",
      "374:\tlearn: 0.2191901\ttotal: 5.49s\tremaining: 9.15s\n",
      "375:\tlearn: 0.2191523\ttotal: 5.51s\tremaining: 9.14s\n",
      "376:\tlearn: 0.2191137\ttotal: 5.52s\tremaining: 9.13s\n",
      "377:\tlearn: 0.2190704\ttotal: 5.55s\tremaining: 9.13s\n",
      "378:\tlearn: 0.2190290\ttotal: 5.57s\tremaining: 9.12s\n",
      "379:\tlearn: 0.2190033\ttotal: 5.59s\tremaining: 9.12s\n",
      "380:\tlearn: 0.2189481\ttotal: 5.61s\tremaining: 9.11s\n",
      "381:\tlearn: 0.2189302\ttotal: 5.62s\tremaining: 9.09s\n",
      "382:\tlearn: 0.2188916\ttotal: 5.64s\tremaining: 9.09s\n",
      "383:\tlearn: 0.2188602\ttotal: 5.66s\tremaining: 9.07s\n",
      "384:\tlearn: 0.2188091\ttotal: 5.67s\tremaining: 9.06s\n",
      "385:\tlearn: 0.2187802\ttotal: 5.68s\tremaining: 9.04s\n",
      "386:\tlearn: 0.2187342\ttotal: 5.69s\tremaining: 9.02s\n",
      "387:\tlearn: 0.2186821\ttotal: 5.71s\tremaining: 9s\n",
      "388:\tlearn: 0.2186445\ttotal: 5.72s\tremaining: 8.98s\n",
      "389:\tlearn: 0.2186085\ttotal: 5.73s\tremaining: 8.97s\n",
      "390:\tlearn: 0.2185503\ttotal: 5.75s\tremaining: 8.95s\n",
      "391:\tlearn: 0.2185087\ttotal: 5.77s\tremaining: 8.95s\n",
      "392:\tlearn: 0.2184941\ttotal: 5.78s\tremaining: 8.93s\n",
      "393:\tlearn: 0.2184446\ttotal: 5.8s\tremaining: 8.92s\n",
      "394:\tlearn: 0.2184152\ttotal: 5.81s\tremaining: 8.9s\n",
      "395:\tlearn: 0.2183754\ttotal: 5.82s\tremaining: 8.88s\n",
      "396:\tlearn: 0.2183532\ttotal: 5.83s\tremaining: 8.86s\n",
      "397:\tlearn: 0.2183194\ttotal: 5.85s\tremaining: 8.85s\n",
      "398:\tlearn: 0.2182536\ttotal: 5.86s\tremaining: 8.83s\n",
      "399:\tlearn: 0.2182457\ttotal: 5.87s\tremaining: 8.81s\n",
      "400:\tlearn: 0.2181966\ttotal: 5.89s\tremaining: 8.79s\n",
      "401:\tlearn: 0.2181410\ttotal: 5.9s\tremaining: 8.78s\n",
      "402:\tlearn: 0.2180935\ttotal: 5.92s\tremaining: 8.76s\n",
      "403:\tlearn: 0.2180478\ttotal: 5.93s\tremaining: 8.75s\n",
      "404:\tlearn: 0.2180217\ttotal: 5.94s\tremaining: 8.73s\n",
      "405:\tlearn: 0.2179972\ttotal: 5.96s\tremaining: 8.71s\n",
      "406:\tlearn: 0.2179573\ttotal: 5.98s\tremaining: 8.71s\n",
      "407:\tlearn: 0.2179140\ttotal: 5.99s\tremaining: 8.69s\n",
      "408:\tlearn: 0.2178848\ttotal: 6s\tremaining: 8.68s\n",
      "409:\tlearn: 0.2178361\ttotal: 6.02s\tremaining: 8.66s\n",
      "410:\tlearn: 0.2177876\ttotal: 6.03s\tremaining: 8.64s\n",
      "411:\tlearn: 0.2177279\ttotal: 6.05s\tremaining: 8.63s\n",
      "412:\tlearn: 0.2177194\ttotal: 6.06s\tremaining: 8.61s\n",
      "413:\tlearn: 0.2177024\ttotal: 6.07s\tremaining: 8.6s\n",
      "414:\tlearn: 0.2176906\ttotal: 6.08s\tremaining: 8.58s\n",
      "415:\tlearn: 0.2176519\ttotal: 6.1s\tremaining: 8.56s\n",
      "416:\tlearn: 0.2176091\ttotal: 6.11s\tremaining: 8.54s\n",
      "417:\tlearn: 0.2175722\ttotal: 6.12s\tremaining: 8.52s\n",
      "418:\tlearn: 0.2175445\ttotal: 6.13s\tremaining: 8.51s\n",
      "419:\tlearn: 0.2174930\ttotal: 6.15s\tremaining: 8.49s\n",
      "420:\tlearn: 0.2174685\ttotal: 6.17s\tremaining: 8.48s\n",
      "421:\tlearn: 0.2174322\ttotal: 6.18s\tremaining: 8.47s\n",
      "422:\tlearn: 0.2174073\ttotal: 6.2s\tremaining: 8.45s\n",
      "423:\tlearn: 0.2173751\ttotal: 6.21s\tremaining: 8.43s\n",
      "424:\tlearn: 0.2173448\ttotal: 6.22s\tremaining: 8.42s\n",
      "425:\tlearn: 0.2173136\ttotal: 6.23s\tremaining: 8.4s\n",
      "426:\tlearn: 0.2172649\ttotal: 6.25s\tremaining: 8.38s\n",
      "427:\tlearn: 0.2172075\ttotal: 6.26s\tremaining: 8.36s\n",
      "428:\tlearn: 0.2171651\ttotal: 6.27s\tremaining: 8.35s\n",
      "429:\tlearn: 0.2171290\ttotal: 6.28s\tremaining: 8.33s\n",
      "430:\tlearn: 0.2170910\ttotal: 6.29s\tremaining: 8.31s\n",
      "431:\tlearn: 0.2170756\ttotal: 6.31s\tremaining: 8.29s\n",
      "432:\tlearn: 0.2170328\ttotal: 6.32s\tremaining: 8.28s\n",
      "433:\tlearn: 0.2169852\ttotal: 6.33s\tremaining: 8.26s\n",
      "434:\tlearn: 0.2169521\ttotal: 6.34s\tremaining: 8.24s\n",
      "435:\tlearn: 0.2169446\ttotal: 6.36s\tremaining: 8.22s\n",
      "436:\tlearn: 0.2168977\ttotal: 6.37s\tremaining: 8.21s\n",
      "437:\tlearn: 0.2168465\ttotal: 6.39s\tremaining: 8.2s\n",
      "438:\tlearn: 0.2168318\ttotal: 6.41s\tremaining: 8.19s\n",
      "439:\tlearn: 0.2168176\ttotal: 6.42s\tremaining: 8.17s\n",
      "440:\tlearn: 0.2167952\ttotal: 6.43s\tremaining: 8.15s\n",
      "441:\tlearn: 0.2167442\ttotal: 6.44s\tremaining: 8.13s\n",
      "442:\tlearn: 0.2167037\ttotal: 6.46s\tremaining: 8.12s\n",
      "443:\tlearn: 0.2166414\ttotal: 6.47s\tremaining: 8.1s\n",
      "444:\tlearn: 0.2165976\ttotal: 6.48s\tremaining: 8.08s\n",
      "445:\tlearn: 0.2165317\ttotal: 6.5s\tremaining: 8.07s\n",
      "446:\tlearn: 0.2164748\ttotal: 6.51s\tremaining: 8.05s\n",
      "447:\tlearn: 0.2164320\ttotal: 6.52s\tremaining: 8.04s\n",
      "448:\tlearn: 0.2163772\ttotal: 6.54s\tremaining: 8.02s\n",
      "449:\tlearn: 0.2163284\ttotal: 6.55s\tremaining: 8.01s\n",
      "450:\tlearn: 0.2162744\ttotal: 6.57s\tremaining: 7.99s\n",
      "451:\tlearn: 0.2162300\ttotal: 6.58s\tremaining: 7.98s\n",
      "452:\tlearn: 0.2161854\ttotal: 6.6s\tremaining: 7.97s\n",
      "453:\tlearn: 0.2161290\ttotal: 6.62s\tremaining: 7.96s\n",
      "454:\tlearn: 0.2160976\ttotal: 6.63s\tremaining: 7.94s\n",
      "455:\tlearn: 0.2160431\ttotal: 6.64s\tremaining: 7.93s\n",
      "456:\tlearn: 0.2160275\ttotal: 6.66s\tremaining: 7.91s\n",
      "457:\tlearn: 0.2159697\ttotal: 6.67s\tremaining: 7.9s\n",
      "458:\tlearn: 0.2159263\ttotal: 6.69s\tremaining: 7.88s\n",
      "459:\tlearn: 0.2158783\ttotal: 6.7s\tremaining: 7.87s\n",
      "460:\tlearn: 0.2158265\ttotal: 6.72s\tremaining: 7.85s\n",
      "461:\tlearn: 0.2158168\ttotal: 6.73s\tremaining: 7.84s\n",
      "462:\tlearn: 0.2157723\ttotal: 6.74s\tremaining: 7.82s\n",
      "463:\tlearn: 0.2157311\ttotal: 6.76s\tremaining: 7.81s\n",
      "464:\tlearn: 0.2156728\ttotal: 6.77s\tremaining: 7.79s\n",
      "465:\tlearn: 0.2156197\ttotal: 6.79s\tremaining: 7.78s\n",
      "466:\tlearn: 0.2155877\ttotal: 6.8s\tremaining: 7.76s\n",
      "467:\tlearn: 0.2155737\ttotal: 6.82s\tremaining: 7.75s\n",
      "468:\tlearn: 0.2155261\ttotal: 6.84s\tremaining: 7.74s\n",
      "469:\tlearn: 0.2154668\ttotal: 6.85s\tremaining: 7.72s\n",
      "470:\tlearn: 0.2154259\ttotal: 6.86s\tremaining: 7.71s\n",
      "471:\tlearn: 0.2154211\ttotal: 6.88s\tremaining: 7.69s\n",
      "472:\tlearn: 0.2153623\ttotal: 6.89s\tremaining: 7.68s\n",
      "473:\tlearn: 0.2153274\ttotal: 6.91s\tremaining: 7.67s\n",
      "474:\tlearn: 0.2152815\ttotal: 6.92s\tremaining: 7.65s\n",
      "475:\tlearn: 0.2152307\ttotal: 6.93s\tremaining: 7.63s\n",
      "476:\tlearn: 0.2151807\ttotal: 6.94s\tremaining: 7.61s\n",
      "477:\tlearn: 0.2151673\ttotal: 6.96s\tremaining: 7.59s\n",
      "478:\tlearn: 0.2151144\ttotal: 6.97s\tremaining: 7.58s\n",
      "479:\tlearn: 0.2150737\ttotal: 6.98s\tremaining: 7.57s\n",
      "480:\tlearn: 0.2150202\ttotal: 7.01s\tremaining: 7.56s\n",
      "481:\tlearn: 0.2149996\ttotal: 7.02s\tremaining: 7.55s\n",
      "482:\tlearn: 0.2149513\ttotal: 7.04s\tremaining: 7.53s\n",
      "483:\tlearn: 0.2148998\ttotal: 7.05s\tremaining: 7.52s\n",
      "484:\tlearn: 0.2148510\ttotal: 7.06s\tremaining: 7.5s\n",
      "485:\tlearn: 0.2148064\ttotal: 7.08s\tremaining: 7.48s\n",
      "486:\tlearn: 0.2147603\ttotal: 7.09s\tremaining: 7.47s\n",
      "487:\tlearn: 0.2146987\ttotal: 7.1s\tremaining: 7.45s\n",
      "488:\tlearn: 0.2146427\ttotal: 7.12s\tremaining: 7.44s\n",
      "489:\tlearn: 0.2146338\ttotal: 7.13s\tremaining: 7.42s\n",
      "490:\tlearn: 0.2145716\ttotal: 7.14s\tremaining: 7.4s\n",
      "491:\tlearn: 0.2145360\ttotal: 7.16s\tremaining: 7.39s\n",
      "492:\tlearn: 0.2145026\ttotal: 7.17s\tremaining: 7.37s\n",
      "493:\tlearn: 0.2144528\ttotal: 7.18s\tremaining: 7.36s\n",
      "494:\tlearn: 0.2144048\ttotal: 7.2s\tremaining: 7.34s\n"
     ]
    },
    {
     "name": "stdout",
     "output_type": "stream",
     "text": [
      "495:\tlearn: 0.2143926\ttotal: 7.21s\tremaining: 7.33s\n",
      "496:\tlearn: 0.2143681\ttotal: 7.22s\tremaining: 7.31s\n",
      "497:\tlearn: 0.2143114\ttotal: 7.24s\tremaining: 7.3s\n",
      "498:\tlearn: 0.2142582\ttotal: 7.26s\tremaining: 7.29s\n",
      "499:\tlearn: 0.2142328\ttotal: 7.28s\tremaining: 7.28s\n",
      "500:\tlearn: 0.2141976\ttotal: 7.29s\tremaining: 7.26s\n",
      "501:\tlearn: 0.2141202\ttotal: 7.31s\tremaining: 7.25s\n",
      "502:\tlearn: 0.2140631\ttotal: 7.33s\tremaining: 7.24s\n",
      "503:\tlearn: 0.2140578\ttotal: 7.34s\tremaining: 7.22s\n",
      "504:\tlearn: 0.2140250\ttotal: 7.36s\tremaining: 7.21s\n",
      "505:\tlearn: 0.2139821\ttotal: 7.38s\tremaining: 7.2s\n",
      "506:\tlearn: 0.2139807\ttotal: 7.39s\tremaining: 7.19s\n",
      "507:\tlearn: 0.2139386\ttotal: 7.41s\tremaining: 7.17s\n",
      "508:\tlearn: 0.2139035\ttotal: 7.42s\tremaining: 7.16s\n",
      "509:\tlearn: 0.2138618\ttotal: 7.44s\tremaining: 7.15s\n",
      "510:\tlearn: 0.2138524\ttotal: 7.45s\tremaining: 7.13s\n",
      "511:\tlearn: 0.2137917\ttotal: 7.47s\tremaining: 7.12s\n",
      "512:\tlearn: 0.2137493\ttotal: 7.49s\tremaining: 7.11s\n",
      "513:\tlearn: 0.2136918\ttotal: 7.5s\tremaining: 7.09s\n",
      "514:\tlearn: 0.2136316\ttotal: 7.52s\tremaining: 7.08s\n",
      "515:\tlearn: 0.2136193\ttotal: 7.53s\tremaining: 7.06s\n",
      "516:\tlearn: 0.2135856\ttotal: 7.54s\tremaining: 7.04s\n",
      "517:\tlearn: 0.2135583\ttotal: 7.55s\tremaining: 7.03s\n",
      "518:\tlearn: 0.2135177\ttotal: 7.56s\tremaining: 7.01s\n",
      "519:\tlearn: 0.2134685\ttotal: 7.58s\tremaining: 7s\n",
      "520:\tlearn: 0.2134359\ttotal: 7.59s\tremaining: 6.98s\n",
      "521:\tlearn: 0.2133885\ttotal: 7.6s\tremaining: 6.96s\n",
      "522:\tlearn: 0.2133793\ttotal: 7.62s\tremaining: 6.95s\n",
      "523:\tlearn: 0.2133403\ttotal: 7.64s\tremaining: 6.94s\n",
      "524:\tlearn: 0.2133395\ttotal: 7.65s\tremaining: 6.92s\n",
      "525:\tlearn: 0.2133228\ttotal: 7.66s\tremaining: 6.91s\n",
      "526:\tlearn: 0.2133061\ttotal: 7.67s\tremaining: 6.89s\n",
      "527:\tlearn: 0.2132679\ttotal: 7.69s\tremaining: 6.87s\n",
      "528:\tlearn: 0.2132225\ttotal: 7.7s\tremaining: 6.86s\n",
      "529:\tlearn: 0.2131958\ttotal: 7.71s\tremaining: 6.84s\n",
      "530:\tlearn: 0.2131620\ttotal: 7.72s\tremaining: 6.82s\n",
      "531:\tlearn: 0.2131104\ttotal: 7.74s\tremaining: 6.81s\n",
      "532:\tlearn: 0.2131090\ttotal: 7.75s\tremaining: 6.79s\n",
      "533:\tlearn: 0.2130638\ttotal: 7.76s\tremaining: 6.77s\n",
      "534:\tlearn: 0.2130580\ttotal: 7.77s\tremaining: 6.76s\n",
      "535:\tlearn: 0.2130285\ttotal: 7.79s\tremaining: 6.74s\n",
      "536:\tlearn: 0.2129918\ttotal: 7.8s\tremaining: 6.72s\n",
      "537:\tlearn: 0.2129519\ttotal: 7.81s\tremaining: 6.71s\n",
      "538:\tlearn: 0.2129184\ttotal: 7.82s\tremaining: 6.69s\n",
      "539:\tlearn: 0.2128723\ttotal: 7.84s\tremaining: 6.68s\n",
      "540:\tlearn: 0.2128405\ttotal: 7.86s\tremaining: 6.67s\n",
      "541:\tlearn: 0.2128169\ttotal: 7.87s\tremaining: 6.65s\n",
      "542:\tlearn: 0.2127586\ttotal: 7.88s\tremaining: 6.63s\n",
      "543:\tlearn: 0.2127317\ttotal: 7.89s\tremaining: 6.62s\n",
      "544:\tlearn: 0.2126950\ttotal: 7.91s\tremaining: 6.6s\n",
      "545:\tlearn: 0.2126668\ttotal: 7.92s\tremaining: 6.58s\n",
      "546:\tlearn: 0.2126379\ttotal: 7.93s\tremaining: 6.57s\n",
      "547:\tlearn: 0.2126128\ttotal: 7.95s\tremaining: 6.55s\n",
      "548:\tlearn: 0.2125636\ttotal: 7.96s\tremaining: 6.54s\n",
      "549:\tlearn: 0.2125256\ttotal: 7.97s\tremaining: 6.52s\n",
      "550:\tlearn: 0.2124862\ttotal: 7.99s\tremaining: 6.51s\n",
      "551:\tlearn: 0.2124630\ttotal: 8s\tremaining: 6.49s\n",
      "552:\tlearn: 0.2124234\ttotal: 8.01s\tremaining: 6.47s\n",
      "553:\tlearn: 0.2123731\ttotal: 8.02s\tremaining: 6.46s\n",
      "554:\tlearn: 0.2123408\ttotal: 8.04s\tremaining: 6.45s\n",
      "555:\tlearn: 0.2123261\ttotal: 8.05s\tremaining: 6.43s\n",
      "556:\tlearn: 0.2123212\ttotal: 8.07s\tremaining: 6.42s\n",
      "557:\tlearn: 0.2122886\ttotal: 8.08s\tremaining: 6.4s\n",
      "558:\tlearn: 0.2122560\ttotal: 8.09s\tremaining: 6.38s\n",
      "559:\tlearn: 0.2122013\ttotal: 8.1s\tremaining: 6.37s\n",
      "560:\tlearn: 0.2121658\ttotal: 8.12s\tremaining: 6.35s\n",
      "561:\tlearn: 0.2121427\ttotal: 8.13s\tremaining: 6.34s\n",
      "562:\tlearn: 0.2121181\ttotal: 8.15s\tremaining: 6.32s\n",
      "563:\tlearn: 0.2121009\ttotal: 8.16s\tremaining: 6.31s\n",
      "564:\tlearn: 0.2120593\ttotal: 8.17s\tremaining: 6.29s\n",
      "565:\tlearn: 0.2120303\ttotal: 8.18s\tremaining: 6.28s\n",
      "566:\tlearn: 0.2120098\ttotal: 8.2s\tremaining: 6.26s\n",
      "567:\tlearn: 0.2119949\ttotal: 8.21s\tremaining: 6.24s\n",
      "568:\tlearn: 0.2119697\ttotal: 8.22s\tremaining: 6.23s\n",
      "569:\tlearn: 0.2119643\ttotal: 8.24s\tremaining: 6.21s\n",
      "570:\tlearn: 0.2119118\ttotal: 8.26s\tremaining: 6.2s\n",
      "571:\tlearn: 0.2118933\ttotal: 8.27s\tremaining: 6.19s\n",
      "572:\tlearn: 0.2118794\ttotal: 8.28s\tremaining: 6.17s\n",
      "573:\tlearn: 0.2118409\ttotal: 8.3s\tremaining: 6.16s\n",
      "574:\tlearn: 0.2117985\ttotal: 8.31s\tremaining: 6.14s\n",
      "575:\tlearn: 0.2117752\ttotal: 8.32s\tremaining: 6.13s\n",
      "576:\tlearn: 0.2117539\ttotal: 8.33s\tremaining: 6.11s\n",
      "577:\tlearn: 0.2117137\ttotal: 8.35s\tremaining: 6.09s\n",
      "578:\tlearn: 0.2116887\ttotal: 8.36s\tremaining: 6.08s\n",
      "579:\tlearn: 0.2116777\ttotal: 8.37s\tremaining: 6.06s\n",
      "580:\tlearn: 0.2116263\ttotal: 8.38s\tremaining: 6.04s\n",
      "581:\tlearn: 0.2115875\ttotal: 8.39s\tremaining: 6.03s\n",
      "582:\tlearn: 0.2115618\ttotal: 8.41s\tremaining: 6.01s\n",
      "583:\tlearn: 0.2115053\ttotal: 8.42s\tremaining: 6s\n",
      "584:\tlearn: 0.2114994\ttotal: 8.43s\tremaining: 5.98s\n",
      "585:\tlearn: 0.2114771\ttotal: 8.45s\tremaining: 5.97s\n",
      "586:\tlearn: 0.2114604\ttotal: 8.46s\tremaining: 5.96s\n",
      "587:\tlearn: 0.2114203\ttotal: 8.48s\tremaining: 5.94s\n",
      "588:\tlearn: 0.2113682\ttotal: 8.5s\tremaining: 5.93s\n",
      "589:\tlearn: 0.2113328\ttotal: 8.53s\tremaining: 5.92s\n",
      "590:\tlearn: 0.2113267\ttotal: 8.54s\tremaining: 5.91s\n",
      "591:\tlearn: 0.2112812\ttotal: 8.55s\tremaining: 5.89s\n",
      "592:\tlearn: 0.2112681\ttotal: 8.59s\tremaining: 5.89s\n",
      "593:\tlearn: 0.2112529\ttotal: 8.6s\tremaining: 5.88s\n",
      "594:\tlearn: 0.2112139\ttotal: 8.61s\tremaining: 5.86s\n",
      "595:\tlearn: 0.2111810\ttotal: 8.63s\tremaining: 5.85s\n",
      "596:\tlearn: 0.2111402\ttotal: 8.64s\tremaining: 5.83s\n",
      "597:\tlearn: 0.2111342\ttotal: 8.65s\tremaining: 5.82s\n",
      "598:\tlearn: 0.2111088\ttotal: 8.67s\tremaining: 5.8s\n",
      "599:\tlearn: 0.2110589\ttotal: 8.68s\tremaining: 5.79s\n",
      "600:\tlearn: 0.2110392\ttotal: 8.69s\tremaining: 5.77s\n",
      "601:\tlearn: 0.2110138\ttotal: 8.71s\tremaining: 5.75s\n",
      "602:\tlearn: 0.2109792\ttotal: 8.72s\tremaining: 5.74s\n",
      "603:\tlearn: 0.2109753\ttotal: 8.73s\tremaining: 5.72s\n",
      "604:\tlearn: 0.2109555\ttotal: 8.74s\tremaining: 5.71s\n",
      "605:\tlearn: 0.2109121\ttotal: 8.75s\tremaining: 5.69s\n",
      "606:\tlearn: 0.2108700\ttotal: 8.77s\tremaining: 5.68s\n",
      "607:\tlearn: 0.2108657\ttotal: 8.78s\tremaining: 5.66s\n",
      "608:\tlearn: 0.2108093\ttotal: 8.79s\tremaining: 5.64s\n",
      "609:\tlearn: 0.2107679\ttotal: 8.8s\tremaining: 5.63s\n",
      "610:\tlearn: 0.2107441\ttotal: 8.82s\tremaining: 5.61s\n",
      "611:\tlearn: 0.2106830\ttotal: 8.83s\tremaining: 5.6s\n",
      "612:\tlearn: 0.2106587\ttotal: 8.84s\tremaining: 5.58s\n",
      "613:\tlearn: 0.2106234\ttotal: 8.86s\tremaining: 5.57s\n",
      "614:\tlearn: 0.2105973\ttotal: 8.88s\tremaining: 5.56s\n",
      "615:\tlearn: 0.2105921\ttotal: 8.89s\tremaining: 5.54s\n",
      "616:\tlearn: 0.2105749\ttotal: 8.9s\tremaining: 5.53s\n",
      "617:\tlearn: 0.2105105\ttotal: 8.91s\tremaining: 5.51s\n",
      "618:\tlearn: 0.2104775\ttotal: 8.93s\tremaining: 5.49s\n",
      "619:\tlearn: 0.2104708\ttotal: 8.94s\tremaining: 5.48s\n",
      "620:\tlearn: 0.2104530\ttotal: 8.95s\tremaining: 5.46s\n",
      "621:\tlearn: 0.2104193\ttotal: 8.97s\tremaining: 5.45s\n",
      "622:\tlearn: 0.2103779\ttotal: 8.98s\tremaining: 5.43s\n",
      "623:\tlearn: 0.2103223\ttotal: 9s\tremaining: 5.42s\n",
      "624:\tlearn: 0.2102977\ttotal: 9.01s\tremaining: 5.41s\n",
      "625:\tlearn: 0.2102612\ttotal: 9.03s\tremaining: 5.39s\n",
      "626:\tlearn: 0.2101970\ttotal: 9.04s\tremaining: 5.38s\n",
      "627:\tlearn: 0.2101904\ttotal: 9.05s\tremaining: 5.36s\n",
      "628:\tlearn: 0.2101785\ttotal: 9.1s\tremaining: 5.37s\n",
      "629:\tlearn: 0.2101424\ttotal: 9.12s\tremaining: 5.35s\n",
      "630:\tlearn: 0.2100904\ttotal: 9.13s\tremaining: 5.34s\n",
      "631:\tlearn: 0.2100475\ttotal: 9.14s\tremaining: 5.32s\n",
      "632:\tlearn: 0.2100013\ttotal: 9.16s\tremaining: 5.31s\n",
      "633:\tlearn: 0.2099847\ttotal: 9.17s\tremaining: 5.3s\n",
      "634:\tlearn: 0.2099302\ttotal: 9.19s\tremaining: 5.28s\n",
      "635:\tlearn: 0.2098919\ttotal: 9.2s\tremaining: 5.27s\n",
      "636:\tlearn: 0.2098622\ttotal: 9.22s\tremaining: 5.25s\n",
      "637:\tlearn: 0.2098552\ttotal: 9.23s\tremaining: 5.24s\n",
      "638:\tlearn: 0.2098122\ttotal: 9.24s\tremaining: 5.22s\n",
      "639:\tlearn: 0.2097644\ttotal: 9.26s\tremaining: 5.21s\n",
      "640:\tlearn: 0.2097266\ttotal: 9.27s\tremaining: 5.19s\n",
      "641:\tlearn: 0.2097170\ttotal: 9.29s\tremaining: 5.18s\n",
      "642:\tlearn: 0.2096842\ttotal: 9.3s\tremaining: 5.16s\n",
      "643:\tlearn: 0.2096761\ttotal: 9.32s\tremaining: 5.15s\n",
      "644:\tlearn: 0.2096390\ttotal: 9.33s\tremaining: 5.14s\n",
      "645:\tlearn: 0.2096070\ttotal: 9.35s\tremaining: 5.12s\n",
      "646:\tlearn: 0.2095643\ttotal: 9.36s\tremaining: 5.11s\n",
      "647:\tlearn: 0.2095264\ttotal: 9.37s\tremaining: 5.09s\n",
      "648:\tlearn: 0.2094896\ttotal: 9.39s\tremaining: 5.08s\n",
      "649:\tlearn: 0.2094514\ttotal: 9.4s\tremaining: 5.06s\n",
      "650:\tlearn: 0.2094113\ttotal: 9.41s\tremaining: 5.05s\n",
      "651:\tlearn: 0.2093597\ttotal: 9.43s\tremaining: 5.03s\n",
      "652:\tlearn: 0.2093355\ttotal: 9.44s\tremaining: 5.02s\n",
      "653:\tlearn: 0.2093060\ttotal: 9.45s\tremaining: 5s\n",
      "654:\tlearn: 0.2092527\ttotal: 9.47s\tremaining: 4.99s\n",
      "655:\tlearn: 0.2092467\ttotal: 9.48s\tremaining: 4.97s\n",
      "656:\tlearn: 0.2092107\ttotal: 9.49s\tremaining: 4.96s\n"
     ]
    },
    {
     "name": "stdout",
     "output_type": "stream",
     "text": [
      "657:\tlearn: 0.2091766\ttotal: 9.51s\tremaining: 4.94s\n",
      "658:\tlearn: 0.2091447\ttotal: 9.52s\tremaining: 4.93s\n",
      "659:\tlearn: 0.2091227\ttotal: 9.54s\tremaining: 4.91s\n",
      "660:\tlearn: 0.2090783\ttotal: 9.55s\tremaining: 4.9s\n",
      "661:\tlearn: 0.2090622\ttotal: 9.56s\tremaining: 4.88s\n",
      "662:\tlearn: 0.2090080\ttotal: 9.58s\tremaining: 4.87s\n",
      "663:\tlearn: 0.2089888\ttotal: 9.59s\tremaining: 4.85s\n",
      "664:\tlearn: 0.2089347\ttotal: 9.6s\tremaining: 4.84s\n",
      "665:\tlearn: 0.2088963\ttotal: 9.61s\tremaining: 4.82s\n",
      "666:\tlearn: 0.2088901\ttotal: 9.63s\tremaining: 4.81s\n",
      "667:\tlearn: 0.2088634\ttotal: 9.64s\tremaining: 4.79s\n",
      "668:\tlearn: 0.2088578\ttotal: 9.65s\tremaining: 4.78s\n",
      "669:\tlearn: 0.2088336\ttotal: 9.67s\tremaining: 4.76s\n",
      "670:\tlearn: 0.2088261\ttotal: 9.68s\tremaining: 4.75s\n",
      "671:\tlearn: 0.2088072\ttotal: 9.69s\tremaining: 4.73s\n",
      "672:\tlearn: 0.2088067\ttotal: 9.7s\tremaining: 4.71s\n",
      "673:\tlearn: 0.2087698\ttotal: 9.72s\tremaining: 4.7s\n",
      "674:\tlearn: 0.2087473\ttotal: 9.74s\tremaining: 4.69s\n",
      "675:\tlearn: 0.2087131\ttotal: 9.75s\tremaining: 4.67s\n",
      "676:\tlearn: 0.2087006\ttotal: 9.76s\tremaining: 4.66s\n",
      "677:\tlearn: 0.2086828\ttotal: 9.78s\tremaining: 4.64s\n",
      "678:\tlearn: 0.2086527\ttotal: 9.79s\tremaining: 4.63s\n",
      "679:\tlearn: 0.2086203\ttotal: 9.81s\tremaining: 4.61s\n",
      "680:\tlearn: 0.2085856\ttotal: 9.82s\tremaining: 4.6s\n",
      "681:\tlearn: 0.2085382\ttotal: 9.83s\tremaining: 4.58s\n",
      "682:\tlearn: 0.2084932\ttotal: 9.85s\tremaining: 4.57s\n",
      "683:\tlearn: 0.2084626\ttotal: 9.87s\tremaining: 4.56s\n",
      "684:\tlearn: 0.2084387\ttotal: 9.88s\tremaining: 4.54s\n",
      "685:\tlearn: 0.2084142\ttotal: 9.89s\tremaining: 4.53s\n",
      "686:\tlearn: 0.2083823\ttotal: 9.91s\tremaining: 4.51s\n",
      "687:\tlearn: 0.2083421\ttotal: 9.92s\tremaining: 4.5s\n",
      "688:\tlearn: 0.2083376\ttotal: 9.94s\tremaining: 4.49s\n",
      "689:\tlearn: 0.2083066\ttotal: 9.96s\tremaining: 4.47s\n",
      "690:\tlearn: 0.2082726\ttotal: 9.97s\tremaining: 4.46s\n",
      "691:\tlearn: 0.2082453\ttotal: 9.99s\tremaining: 4.45s\n",
      "692:\tlearn: 0.2082156\ttotal: 10s\tremaining: 4.43s\n",
      "693:\tlearn: 0.2082111\ttotal: 10s\tremaining: 4.42s\n",
      "694:\tlearn: 0.2081839\ttotal: 10s\tremaining: 4.4s\n",
      "695:\tlearn: 0.2081373\ttotal: 10s\tremaining: 4.38s\n",
      "696:\tlearn: 0.2080969\ttotal: 10.1s\tremaining: 4.37s\n",
      "697:\tlearn: 0.2080593\ttotal: 10.1s\tremaining: 4.36s\n",
      "698:\tlearn: 0.2080312\ttotal: 10.1s\tremaining: 4.34s\n",
      "699:\tlearn: 0.2080104\ttotal: 10.1s\tremaining: 4.33s\n",
      "700:\tlearn: 0.2079824\ttotal: 10.1s\tremaining: 4.31s\n",
      "701:\tlearn: 0.2079451\ttotal: 10.1s\tremaining: 4.3s\n",
      "702:\tlearn: 0.2079122\ttotal: 10.1s\tremaining: 4.28s\n",
      "703:\tlearn: 0.2078802\ttotal: 10.2s\tremaining: 4.27s\n",
      "704:\tlearn: 0.2078744\ttotal: 10.2s\tremaining: 4.25s\n",
      "705:\tlearn: 0.2078556\ttotal: 10.2s\tremaining: 4.24s\n",
      "706:\tlearn: 0.2078213\ttotal: 10.2s\tremaining: 4.22s\n",
      "707:\tlearn: 0.2077714\ttotal: 10.2s\tremaining: 4.21s\n",
      "708:\tlearn: 0.2077432\ttotal: 10.2s\tremaining: 4.2s\n",
      "709:\tlearn: 0.2077091\ttotal: 10.2s\tremaining: 4.18s\n",
      "710:\tlearn: 0.2076784\ttotal: 10.3s\tremaining: 4.17s\n",
      "711:\tlearn: 0.2076658\ttotal: 10.3s\tremaining: 4.15s\n",
      "712:\tlearn: 0.2076428\ttotal: 10.3s\tremaining: 4.14s\n",
      "713:\tlearn: 0.2076236\ttotal: 10.3s\tremaining: 4.12s\n",
      "714:\tlearn: 0.2076188\ttotal: 10.3s\tremaining: 4.11s\n",
      "715:\tlearn: 0.2075902\ttotal: 10.3s\tremaining: 4.09s\n",
      "716:\tlearn: 0.2075488\ttotal: 10.3s\tremaining: 4.08s\n",
      "717:\tlearn: 0.2075372\ttotal: 10.4s\tremaining: 4.07s\n",
      "718:\tlearn: 0.2074811\ttotal: 10.4s\tremaining: 4.05s\n",
      "719:\tlearn: 0.2074725\ttotal: 10.4s\tremaining: 4.04s\n",
      "720:\tlearn: 0.2074480\ttotal: 10.4s\tremaining: 4.02s\n",
      "721:\tlearn: 0.2074203\ttotal: 10.4s\tremaining: 4.01s\n",
      "722:\tlearn: 0.2073919\ttotal: 10.4s\tremaining: 3.99s\n",
      "723:\tlearn: 0.2073844\ttotal: 10.4s\tremaining: 3.98s\n",
      "724:\tlearn: 0.2073428\ttotal: 10.4s\tremaining: 3.96s\n",
      "725:\tlearn: 0.2073091\ttotal: 10.5s\tremaining: 3.95s\n",
      "726:\tlearn: 0.2073081\ttotal: 10.5s\tremaining: 3.93s\n",
      "727:\tlearn: 0.2072557\ttotal: 10.5s\tremaining: 3.93s\n",
      "728:\tlearn: 0.2071944\ttotal: 10.5s\tremaining: 3.91s\n",
      "729:\tlearn: 0.2071718\ttotal: 10.5s\tremaining: 3.9s\n",
      "730:\tlearn: 0.2071331\ttotal: 10.6s\tremaining: 3.88s\n",
      "731:\tlearn: 0.2070931\ttotal: 10.6s\tremaining: 3.87s\n",
      "732:\tlearn: 0.2070484\ttotal: 10.6s\tremaining: 3.85s\n",
      "733:\tlearn: 0.2070251\ttotal: 10.6s\tremaining: 3.84s\n",
      "734:\tlearn: 0.2070199\ttotal: 10.6s\tremaining: 3.82s\n",
      "735:\tlearn: 0.2069673\ttotal: 10.6s\tremaining: 3.81s\n",
      "736:\tlearn: 0.2069277\ttotal: 10.6s\tremaining: 3.79s\n",
      "737:\tlearn: 0.2069169\ttotal: 10.6s\tremaining: 3.78s\n",
      "738:\tlearn: 0.2068808\ttotal: 10.7s\tremaining: 3.76s\n",
      "739:\tlearn: 0.2068683\ttotal: 10.7s\tremaining: 3.75s\n",
      "740:\tlearn: 0.2068588\ttotal: 10.7s\tremaining: 3.73s\n",
      "741:\tlearn: 0.2068210\ttotal: 10.7s\tremaining: 3.72s\n",
      "742:\tlearn: 0.2067774\ttotal: 10.7s\tremaining: 3.7s\n",
      "743:\tlearn: 0.2067541\ttotal: 10.7s\tremaining: 3.69s\n",
      "744:\tlearn: 0.2067081\ttotal: 10.7s\tremaining: 3.67s\n",
      "745:\tlearn: 0.2067039\ttotal: 10.7s\tremaining: 3.66s\n",
      "746:\tlearn: 0.2066701\ttotal: 10.8s\tremaining: 3.64s\n",
      "747:\tlearn: 0.2066339\ttotal: 10.8s\tremaining: 3.63s\n",
      "748:\tlearn: 0.2066248\ttotal: 10.8s\tremaining: 3.61s\n",
      "749:\tlearn: 0.2065838\ttotal: 10.8s\tremaining: 3.6s\n",
      "750:\tlearn: 0.2065479\ttotal: 10.8s\tremaining: 3.58s\n",
      "751:\tlearn: 0.2065232\ttotal: 10.8s\tremaining: 3.57s\n",
      "752:\tlearn: 0.2064810\ttotal: 10.8s\tremaining: 3.56s\n",
      "753:\tlearn: 0.2064380\ttotal: 10.8s\tremaining: 3.54s\n",
      "754:\tlearn: 0.2063969\ttotal: 10.9s\tremaining: 3.52s\n",
      "755:\tlearn: 0.2063429\ttotal: 10.9s\tremaining: 3.51s\n",
      "756:\tlearn: 0.2062950\ttotal: 10.9s\tremaining: 3.5s\n",
      "757:\tlearn: 0.2062445\ttotal: 10.9s\tremaining: 3.48s\n",
      "758:\tlearn: 0.2062033\ttotal: 10.9s\tremaining: 3.47s\n",
      "759:\tlearn: 0.2061811\ttotal: 10.9s\tremaining: 3.45s\n",
      "760:\tlearn: 0.2061544\ttotal: 11s\tremaining: 3.45s\n",
      "761:\tlearn: 0.2061515\ttotal: 11s\tremaining: 3.43s\n",
      "762:\tlearn: 0.2061159\ttotal: 11s\tremaining: 3.42s\n",
      "763:\tlearn: 0.2060856\ttotal: 11s\tremaining: 3.4s\n",
      "764:\tlearn: 0.2060493\ttotal: 11s\tremaining: 3.39s\n",
      "765:\tlearn: 0.2060370\ttotal: 11s\tremaining: 3.37s\n",
      "766:\tlearn: 0.2060102\ttotal: 11.1s\tremaining: 3.36s\n",
      "767:\tlearn: 0.2059782\ttotal: 11.1s\tremaining: 3.34s\n",
      "768:\tlearn: 0.2059653\ttotal: 11.1s\tremaining: 3.33s\n",
      "769:\tlearn: 0.2059334\ttotal: 11.1s\tremaining: 3.31s\n",
      "770:\tlearn: 0.2058911\ttotal: 11.1s\tremaining: 3.3s\n",
      "771:\tlearn: 0.2058726\ttotal: 11.1s\tremaining: 3.28s\n",
      "772:\tlearn: 0.2058335\ttotal: 11.1s\tremaining: 3.27s\n",
      "773:\tlearn: 0.2058222\ttotal: 11.1s\tremaining: 3.25s\n",
      "774:\tlearn: 0.2058118\ttotal: 11.2s\tremaining: 3.24s\n",
      "775:\tlearn: 0.2057588\ttotal: 11.2s\tremaining: 3.22s\n",
      "776:\tlearn: 0.2057277\ttotal: 11.2s\tremaining: 3.21s\n",
      "777:\tlearn: 0.2056859\ttotal: 11.2s\tremaining: 3.19s\n",
      "778:\tlearn: 0.2056464\ttotal: 11.2s\tremaining: 3.18s\n",
      "779:\tlearn: 0.2055981\ttotal: 11.2s\tremaining: 3.17s\n",
      "780:\tlearn: 0.2055545\ttotal: 11.3s\tremaining: 3.15s\n",
      "781:\tlearn: 0.2055128\ttotal: 11.3s\tremaining: 3.14s\n",
      "782:\tlearn: 0.2054687\ttotal: 11.3s\tremaining: 3.13s\n",
      "783:\tlearn: 0.2054295\ttotal: 11.3s\tremaining: 3.11s\n",
      "784:\tlearn: 0.2054008\ttotal: 11.3s\tremaining: 3.1s\n",
      "785:\tlearn: 0.2053680\ttotal: 11.3s\tremaining: 3.08s\n",
      "786:\tlearn: 0.2053623\ttotal: 11.3s\tremaining: 3.07s\n",
      "787:\tlearn: 0.2053311\ttotal: 11.3s\tremaining: 3.05s\n",
      "788:\tlearn: 0.2052961\ttotal: 11.4s\tremaining: 3.04s\n",
      "789:\tlearn: 0.2052532\ttotal: 11.4s\tremaining: 3.02s\n",
      "790:\tlearn: 0.2052287\ttotal: 11.4s\tremaining: 3.01s\n",
      "791:\tlearn: 0.2051973\ttotal: 11.4s\tremaining: 2.99s\n",
      "792:\tlearn: 0.2051638\ttotal: 11.4s\tremaining: 2.98s\n",
      "793:\tlearn: 0.2051000\ttotal: 11.5s\tremaining: 2.97s\n",
      "794:\tlearn: 0.2050677\ttotal: 11.5s\tremaining: 2.96s\n",
      "795:\tlearn: 0.2050271\ttotal: 11.5s\tremaining: 2.94s\n",
      "796:\tlearn: 0.2050229\ttotal: 11.5s\tremaining: 2.93s\n",
      "797:\tlearn: 0.2049916\ttotal: 11.5s\tremaining: 2.91s\n",
      "798:\tlearn: 0.2049604\ttotal: 11.5s\tremaining: 2.9s\n",
      "799:\tlearn: 0.2049247\ttotal: 11.5s\tremaining: 2.88s\n",
      "800:\tlearn: 0.2048855\ttotal: 11.5s\tremaining: 2.87s\n",
      "801:\tlearn: 0.2048647\ttotal: 11.6s\tremaining: 2.86s\n",
      "802:\tlearn: 0.2048336\ttotal: 11.6s\tremaining: 2.85s\n",
      "803:\tlearn: 0.2048125\ttotal: 11.6s\tremaining: 2.83s\n",
      "804:\tlearn: 0.2048016\ttotal: 11.6s\tremaining: 2.82s\n",
      "805:\tlearn: 0.2047687\ttotal: 11.6s\tremaining: 2.8s\n",
      "806:\tlearn: 0.2047507\ttotal: 11.6s\tremaining: 2.79s\n",
      "807:\tlearn: 0.2047134\ttotal: 11.7s\tremaining: 2.77s\n",
      "808:\tlearn: 0.2046993\ttotal: 11.7s\tremaining: 2.75s\n",
      "809:\tlearn: 0.2046565\ttotal: 11.7s\tremaining: 2.74s\n",
      "810:\tlearn: 0.2045951\ttotal: 11.7s\tremaining: 2.73s\n",
      "811:\tlearn: 0.2045713\ttotal: 11.7s\tremaining: 2.72s\n",
      "812:\tlearn: 0.2045372\ttotal: 11.7s\tremaining: 2.7s\n",
      "813:\tlearn: 0.2044918\ttotal: 11.8s\tremaining: 2.69s\n",
      "814:\tlearn: 0.2044620\ttotal: 11.8s\tremaining: 2.67s\n",
      "815:\tlearn: 0.2044339\ttotal: 11.8s\tremaining: 2.66s\n"
     ]
    },
    {
     "name": "stdout",
     "output_type": "stream",
     "text": [
      "816:\tlearn: 0.2044102\ttotal: 11.8s\tremaining: 2.64s\n",
      "817:\tlearn: 0.2043762\ttotal: 11.8s\tremaining: 2.63s\n",
      "818:\tlearn: 0.2043352\ttotal: 11.8s\tremaining: 2.61s\n",
      "819:\tlearn: 0.2042843\ttotal: 11.8s\tremaining: 2.6s\n",
      "820:\tlearn: 0.2042756\ttotal: 11.9s\tremaining: 2.58s\n",
      "821:\tlearn: 0.2042468\ttotal: 11.9s\tremaining: 2.57s\n",
      "822:\tlearn: 0.2042050\ttotal: 11.9s\tremaining: 2.56s\n",
      "823:\tlearn: 0.2041672\ttotal: 11.9s\tremaining: 2.54s\n",
      "824:\tlearn: 0.2041134\ttotal: 11.9s\tremaining: 2.53s\n",
      "825:\tlearn: 0.2040651\ttotal: 11.9s\tremaining: 2.52s\n",
      "826:\tlearn: 0.2040373\ttotal: 12s\tremaining: 2.5s\n",
      "827:\tlearn: 0.2040194\ttotal: 12s\tremaining: 2.49s\n",
      "828:\tlearn: 0.2039885\ttotal: 12s\tremaining: 2.47s\n",
      "829:\tlearn: 0.2039552\ttotal: 12s\tremaining: 2.46s\n",
      "830:\tlearn: 0.2039283\ttotal: 12s\tremaining: 2.44s\n",
      "831:\tlearn: 0.2039218\ttotal: 12.1s\tremaining: 2.43s\n",
      "832:\tlearn: 0.2039132\ttotal: 12.1s\tremaining: 2.42s\n",
      "833:\tlearn: 0.2038848\ttotal: 12.1s\tremaining: 2.4s\n",
      "834:\tlearn: 0.2038515\ttotal: 12.1s\tremaining: 2.39s\n",
      "835:\tlearn: 0.2038167\ttotal: 12.1s\tremaining: 2.38s\n",
      "836:\tlearn: 0.2037871\ttotal: 12.1s\tremaining: 2.36s\n",
      "837:\tlearn: 0.2037506\ttotal: 12.1s\tremaining: 2.35s\n",
      "838:\tlearn: 0.2037246\ttotal: 12.1s\tremaining: 2.33s\n",
      "839:\tlearn: 0.2036807\ttotal: 12.2s\tremaining: 2.31s\n",
      "840:\tlearn: 0.2036485\ttotal: 12.2s\tremaining: 2.3s\n",
      "841:\tlearn: 0.2036439\ttotal: 12.2s\tremaining: 2.29s\n",
      "842:\tlearn: 0.2036009\ttotal: 12.2s\tremaining: 2.28s\n",
      "843:\tlearn: 0.2035650\ttotal: 12.2s\tremaining: 2.26s\n",
      "844:\tlearn: 0.2035393\ttotal: 12.3s\tremaining: 2.25s\n",
      "845:\tlearn: 0.2034926\ttotal: 12.3s\tremaining: 2.23s\n",
      "846:\tlearn: 0.2034332\ttotal: 12.3s\tremaining: 2.22s\n",
      "847:\tlearn: 0.2033947\ttotal: 12.3s\tremaining: 2.2s\n",
      "848:\tlearn: 0.2033641\ttotal: 12.3s\tremaining: 2.19s\n",
      "849:\tlearn: 0.2033425\ttotal: 12.3s\tremaining: 2.17s\n",
      "850:\tlearn: 0.2033200\ttotal: 12.3s\tremaining: 2.16s\n",
      "851:\tlearn: 0.2032938\ttotal: 12.3s\tremaining: 2.14s\n",
      "852:\tlearn: 0.2032747\ttotal: 12.4s\tremaining: 2.13s\n",
      "853:\tlearn: 0.2032484\ttotal: 12.4s\tremaining: 2.12s\n",
      "854:\tlearn: 0.2032241\ttotal: 12.4s\tremaining: 2.1s\n",
      "855:\tlearn: 0.2031698\ttotal: 12.4s\tremaining: 2.09s\n",
      "856:\tlearn: 0.2031427\ttotal: 12.4s\tremaining: 2.07s\n",
      "857:\tlearn: 0.2031140\ttotal: 12.4s\tremaining: 2.06s\n",
      "858:\tlearn: 0.2030914\ttotal: 12.5s\tremaining: 2.04s\n",
      "859:\tlearn: 0.2030614\ttotal: 12.5s\tremaining: 2.03s\n",
      "860:\tlearn: 0.2030203\ttotal: 12.5s\tremaining: 2.01s\n",
      "861:\tlearn: 0.2029819\ttotal: 12.5s\tremaining: 2s\n",
      "862:\tlearn: 0.2029423\ttotal: 12.5s\tremaining: 1.98s\n",
      "863:\tlearn: 0.2029096\ttotal: 12.5s\tremaining: 1.97s\n",
      "864:\tlearn: 0.2028772\ttotal: 12.5s\tremaining: 1.96s\n",
      "865:\tlearn: 0.2028710\ttotal: 12.5s\tremaining: 1.94s\n",
      "866:\tlearn: 0.2028285\ttotal: 12.6s\tremaining: 1.93s\n",
      "867:\tlearn: 0.2027946\ttotal: 12.6s\tremaining: 1.91s\n",
      "868:\tlearn: 0.2027838\ttotal: 12.6s\tremaining: 1.9s\n",
      "869:\tlearn: 0.2027555\ttotal: 12.6s\tremaining: 1.89s\n",
      "870:\tlearn: 0.2027357\ttotal: 12.6s\tremaining: 1.87s\n",
      "871:\tlearn: 0.2027080\ttotal: 12.7s\tremaining: 1.86s\n",
      "872:\tlearn: 0.2026819\ttotal: 12.7s\tremaining: 1.84s\n",
      "873:\tlearn: 0.2026554\ttotal: 12.7s\tremaining: 1.83s\n",
      "874:\tlearn: 0.2026252\ttotal: 12.7s\tremaining: 1.81s\n",
      "875:\tlearn: 0.2025872\ttotal: 12.7s\tremaining: 1.8s\n",
      "876:\tlearn: 0.2025669\ttotal: 12.7s\tremaining: 1.78s\n",
      "877:\tlearn: 0.2025423\ttotal: 12.7s\tremaining: 1.77s\n",
      "878:\tlearn: 0.2025242\ttotal: 12.7s\tremaining: 1.75s\n",
      "879:\tlearn: 0.2025148\ttotal: 12.8s\tremaining: 1.74s\n",
      "880:\tlearn: 0.2024840\ttotal: 12.8s\tremaining: 1.72s\n",
      "881:\tlearn: 0.2024658\ttotal: 12.8s\tremaining: 1.71s\n",
      "882:\tlearn: 0.2024309\ttotal: 12.8s\tremaining: 1.69s\n",
      "883:\tlearn: 0.2024075\ttotal: 12.8s\tremaining: 1.68s\n",
      "884:\tlearn: 0.2023788\ttotal: 12.8s\tremaining: 1.67s\n",
      "885:\tlearn: 0.2023604\ttotal: 12.8s\tremaining: 1.65s\n",
      "886:\tlearn: 0.2023144\ttotal: 12.8s\tremaining: 1.64s\n",
      "887:\tlearn: 0.2022769\ttotal: 12.9s\tremaining: 1.62s\n",
      "888:\tlearn: 0.2022556\ttotal: 12.9s\tremaining: 1.61s\n",
      "889:\tlearn: 0.2022372\ttotal: 12.9s\tremaining: 1.59s\n",
      "890:\tlearn: 0.2022039\ttotal: 12.9s\tremaining: 1.58s\n",
      "891:\tlearn: 0.2021532\ttotal: 12.9s\tremaining: 1.56s\n",
      "892:\tlearn: 0.2021108\ttotal: 12.9s\tremaining: 1.55s\n",
      "893:\tlearn: 0.2021018\ttotal: 12.9s\tremaining: 1.53s\n",
      "894:\tlearn: 0.2020728\ttotal: 12.9s\tremaining: 1.52s\n",
      "895:\tlearn: 0.2020485\ttotal: 13s\tremaining: 1.5s\n",
      "896:\tlearn: 0.2020357\ttotal: 13s\tremaining: 1.49s\n",
      "897:\tlearn: 0.2020156\ttotal: 13s\tremaining: 1.47s\n",
      "898:\tlearn: 0.2019694\ttotal: 13s\tremaining: 1.46s\n",
      "899:\tlearn: 0.2019498\ttotal: 13s\tremaining: 1.45s\n",
      "900:\tlearn: 0.2019154\ttotal: 13s\tremaining: 1.43s\n",
      "901:\tlearn: 0.2018652\ttotal: 13.1s\tremaining: 1.42s\n",
      "902:\tlearn: 0.2018573\ttotal: 13.1s\tremaining: 1.4s\n",
      "903:\tlearn: 0.2018256\ttotal: 13.1s\tremaining: 1.39s\n",
      "904:\tlearn: 0.2018245\ttotal: 13.1s\tremaining: 1.38s\n",
      "905:\tlearn: 0.2017983\ttotal: 13.1s\tremaining: 1.36s\n",
      "906:\tlearn: 0.2017618\ttotal: 13.1s\tremaining: 1.34s\n",
      "907:\tlearn: 0.2017311\ttotal: 13.1s\tremaining: 1.33s\n",
      "908:\tlearn: 0.2017014\ttotal: 13.1s\tremaining: 1.32s\n",
      "909:\tlearn: 0.2016926\ttotal: 13.2s\tremaining: 1.3s\n",
      "910:\tlearn: 0.2016843\ttotal: 13.2s\tremaining: 1.29s\n",
      "911:\tlearn: 0.2016453\ttotal: 13.2s\tremaining: 1.27s\n",
      "912:\tlearn: 0.2016102\ttotal: 13.2s\tremaining: 1.26s\n",
      "913:\tlearn: 0.2015843\ttotal: 13.2s\tremaining: 1.24s\n",
      "914:\tlearn: 0.2015549\ttotal: 13.2s\tremaining: 1.23s\n",
      "915:\tlearn: 0.2015101\ttotal: 13.3s\tremaining: 1.22s\n",
      "916:\tlearn: 0.2014817\ttotal: 13.3s\tremaining: 1.2s\n",
      "917:\tlearn: 0.2014443\ttotal: 13.3s\tremaining: 1.19s\n",
      "918:\tlearn: 0.2014038\ttotal: 13.3s\tremaining: 1.17s\n",
      "919:\tlearn: 0.2013761\ttotal: 13.3s\tremaining: 1.16s\n",
      "920:\tlearn: 0.2013549\ttotal: 13.3s\tremaining: 1.14s\n",
      "921:\tlearn: 0.2013295\ttotal: 13.4s\tremaining: 1.13s\n",
      "922:\tlearn: 0.2012942\ttotal: 13.4s\tremaining: 1.11s\n",
      "923:\tlearn: 0.2012515\ttotal: 13.4s\tremaining: 1.1s\n",
      "924:\tlearn: 0.2012041\ttotal: 13.4s\tremaining: 1.09s\n",
      "925:\tlearn: 0.2011862\ttotal: 13.4s\tremaining: 1.07s\n",
      "926:\tlearn: 0.2011671\ttotal: 13.4s\tremaining: 1.06s\n",
      "927:\tlearn: 0.2011394\ttotal: 13.4s\tremaining: 1.04s\n",
      "928:\tlearn: 0.2011109\ttotal: 13.5s\tremaining: 1.03s\n",
      "929:\tlearn: 0.2010774\ttotal: 13.5s\tremaining: 1.01s\n",
      "930:\tlearn: 0.2010481\ttotal: 13.5s\tremaining: 999ms\n",
      "931:\tlearn: 0.2010188\ttotal: 13.5s\tremaining: 984ms\n",
      "932:\tlearn: 0.2009946\ttotal: 13.5s\tremaining: 970ms\n",
      "933:\tlearn: 0.2009745\ttotal: 13.5s\tremaining: 955ms\n",
      "934:\tlearn: 0.2009628\ttotal: 13.5s\tremaining: 941ms\n",
      "935:\tlearn: 0.2009373\ttotal: 13.5s\tremaining: 926ms\n",
      "936:\tlearn: 0.2009232\ttotal: 13.6s\tremaining: 911ms\n",
      "937:\tlearn: 0.2008932\ttotal: 13.6s\tremaining: 897ms\n",
      "938:\tlearn: 0.2008837\ttotal: 13.6s\tremaining: 882ms\n",
      "939:\tlearn: 0.2008612\ttotal: 13.6s\tremaining: 868ms\n",
      "940:\tlearn: 0.2008295\ttotal: 13.6s\tremaining: 853ms\n",
      "941:\tlearn: 0.2008242\ttotal: 13.6s\tremaining: 839ms\n",
      "942:\tlearn: 0.2007993\ttotal: 13.6s\tremaining: 824ms\n",
      "943:\tlearn: 0.2007641\ttotal: 13.7s\tremaining: 810ms\n",
      "944:\tlearn: 0.2007403\ttotal: 13.7s\tremaining: 795ms\n",
      "945:\tlearn: 0.2006978\ttotal: 13.7s\tremaining: 781ms\n",
      "946:\tlearn: 0.2006593\ttotal: 13.7s\tremaining: 766ms\n",
      "947:\tlearn: 0.2006156\ttotal: 13.7s\tremaining: 752ms\n",
      "948:\tlearn: 0.2005787\ttotal: 13.7s\tremaining: 737ms\n",
      "949:\tlearn: 0.2005572\ttotal: 13.7s\tremaining: 723ms\n",
      "950:\tlearn: 0.2005330\ttotal: 13.7s\tremaining: 708ms\n",
      "951:\tlearn: 0.2005065\ttotal: 13.8s\tremaining: 694ms\n",
      "952:\tlearn: 0.2004680\ttotal: 13.8s\tremaining: 679ms\n",
      "953:\tlearn: 0.2004370\ttotal: 13.8s\tremaining: 665ms\n",
      "954:\tlearn: 0.2004236\ttotal: 13.8s\tremaining: 650ms\n",
      "955:\tlearn: 0.2004113\ttotal: 13.8s\tremaining: 636ms\n",
      "956:\tlearn: 0.2003838\ttotal: 13.8s\tremaining: 621ms\n",
      "957:\tlearn: 0.2003598\ttotal: 13.8s\tremaining: 607ms\n",
      "958:\tlearn: 0.2003413\ttotal: 13.8s\tremaining: 592ms\n",
      "959:\tlearn: 0.2003134\ttotal: 13.9s\tremaining: 578ms\n",
      "960:\tlearn: 0.2002864\ttotal: 13.9s\tremaining: 564ms\n",
      "961:\tlearn: 0.2002579\ttotal: 13.9s\tremaining: 549ms\n",
      "962:\tlearn: 0.2002454\ttotal: 13.9s\tremaining: 534ms\n",
      "963:\tlearn: 0.2002164\ttotal: 13.9s\tremaining: 520ms\n",
      "964:\tlearn: 0.2001983\ttotal: 13.9s\tremaining: 505ms\n",
      "965:\tlearn: 0.2001755\ttotal: 13.9s\tremaining: 491ms\n",
      "966:\tlearn: 0.2001580\ttotal: 14s\tremaining: 476ms\n",
      "967:\tlearn: 0.2001236\ttotal: 14s\tremaining: 462ms\n",
      "968:\tlearn: 0.2000960\ttotal: 14s\tremaining: 447ms\n",
      "969:\tlearn: 0.2000727\ttotal: 14s\tremaining: 433ms\n",
      "970:\tlearn: 0.2000493\ttotal: 14s\tremaining: 419ms\n",
      "971:\tlearn: 0.2000187\ttotal: 14s\tremaining: 404ms\n",
      "972:\tlearn: 0.2000171\ttotal: 14s\tremaining: 390ms\n",
      "973:\tlearn: 0.1999758\ttotal: 14.1s\tremaining: 375ms\n",
      "974:\tlearn: 0.1999395\ttotal: 14.1s\tremaining: 361ms\n",
      "975:\tlearn: 0.1999031\ttotal: 14.1s\tremaining: 347ms\n",
      "976:\tlearn: 0.1998750\ttotal: 14.1s\tremaining: 332ms\n",
      "977:\tlearn: 0.1998342\ttotal: 14.1s\tremaining: 318ms\n",
      "978:\tlearn: 0.1997843\ttotal: 14.1s\tremaining: 303ms\n",
      "979:\tlearn: 0.1997428\ttotal: 14.1s\tremaining: 289ms\n",
      "980:\tlearn: 0.1997408\ttotal: 14.2s\tremaining: 274ms\n",
      "981:\tlearn: 0.1997102\ttotal: 14.2s\tremaining: 260ms\n",
      "982:\tlearn: 0.1996825\ttotal: 14.2s\tremaining: 245ms\n",
      "983:\tlearn: 0.1996365\ttotal: 14.2s\tremaining: 231ms\n",
      "984:\tlearn: 0.1996344\ttotal: 14.2s\tremaining: 217ms\n",
      "985:\tlearn: 0.1996034\ttotal: 14.2s\tremaining: 202ms\n"
     ]
    },
    {
     "name": "stdout",
     "output_type": "stream",
     "text": [
      "986:\tlearn: 0.1995732\ttotal: 14.2s\tremaining: 188ms\n",
      "987:\tlearn: 0.1995322\ttotal: 14.3s\tremaining: 173ms\n",
      "988:\tlearn: 0.1995247\ttotal: 14.3s\tremaining: 159ms\n",
      "989:\tlearn: 0.1994938\ttotal: 14.3s\tremaining: 144ms\n",
      "990:\tlearn: 0.1994581\ttotal: 14.3s\tremaining: 130ms\n",
      "991:\tlearn: 0.1994508\ttotal: 14.3s\tremaining: 116ms\n",
      "992:\tlearn: 0.1994123\ttotal: 14.3s\tremaining: 101ms\n",
      "993:\tlearn: 0.1993979\ttotal: 14.4s\tremaining: 86.7ms\n",
      "994:\tlearn: 0.1993711\ttotal: 14.4s\tremaining: 72.2ms\n",
      "995:\tlearn: 0.1993323\ttotal: 14.4s\tremaining: 57.8ms\n",
      "996:\tlearn: 0.1992924\ttotal: 14.4s\tremaining: 43.3ms\n",
      "997:\tlearn: 0.1992676\ttotal: 14.4s\tremaining: 28.9ms\n",
      "998:\tlearn: 0.1992426\ttotal: 14.4s\tremaining: 14.4ms\n",
      "999:\tlearn: 0.1992108\ttotal: 14.4s\tremaining: 0us\n"
     ]
    }
   ],
   "source": [
    "cbc= CatBoostClassifier()\n",
    "cbc.fit(x_train,y_train)\n",
    "y_pred=cbc.predict(x_test)"
   ]
  },
  {
   "cell_type": "code",
   "execution_count": 49,
   "metadata": {
    "colab": {
     "base_uri": "https://localhost:8080/"
    },
    "id": "cObaLPVXl7rv",
    "outputId": "eed02eab-3827-41e5-eeee-bde39d5823cb"
   },
   "outputs": [
    {
     "data": {
      "text/plain": [
       "0.9063879690949227"
      ]
     },
     "execution_count": 49,
     "metadata": {},
     "output_type": "execute_result"
    }
   ],
   "source": [
    "accuracy_score(y_test,y_pred)"
   ]
  }
 ],
 "metadata": {
  "colab": {
   "provenance": []
  },
  "kernelspec": {
   "display_name": "Python 3",
   "language": "python",
   "name": "python3"
  },
  "language_info": {
   "codemirror_mode": {
    "name": "ipython",
    "version": 3
   },
   "file_extension": ".py",
   "mimetype": "text/x-python",
   "name": "python",
   "nbconvert_exporter": "python",
   "pygments_lexer": "ipython3",
   "version": "3.7.2"
  }
 },
 "nbformat": 4,
 "nbformat_minor": 1
}
